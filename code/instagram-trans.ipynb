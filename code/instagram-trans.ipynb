{
 "cells": [
  {
   "cell_type": "markdown",
   "metadata": {},
   "source": [
    "# Load and process data "
   ]
  },
  {
   "cell_type": "code",
   "execution_count": 1,
   "metadata": {
    "collapsed": true
   },
   "outputs": [],
   "source": [
    "import pandas as pd\n",
    "import numpy as np\n",
    "import seaborn as sns\n",
    "import matplotlib.pyplot as plt\n",
    "import os\n",
    "import re\n",
    "import json\n",
    "\n",
    "# text process\n",
    "from wordcloud import WordCloud\n",
    "import nltk\n",
    "from nltk.corpus import stopwords\n",
    "from nltk.tokenize import wordpunct_tokenize, word_tokenize\n",
    "from nltk.stem import WordNetLemmatizer, PorterStemmer, SnowballStemmer, RegexpStemmer"
   ]
  },
  {
   "cell_type": "code",
   "execution_count": 2,
   "metadata": {
    "collapsed": true
   },
   "outputs": [],
   "source": [
    "in_path = r'C:\\Users\\User\\Desktop\\Instagram\\data'"
   ]
  },
  {
   "cell_type": "code",
   "execution_count": 3,
   "metadata": {
    "collapsed": true
   },
   "outputs": [],
   "source": [
    "with open(in_path + '/huangshan.json', 'r', encoding='utf-8') as f:\n",
    "    data = json.loads(f.read())"
   ]
  },
  {
   "cell_type": "code",
   "execution_count": 4,
   "metadata": {},
   "outputs": [
    {
     "data": {
      "text/html": [
       "<div>\n",
       "<style>\n",
       "    .dataframe thead tr:only-child th {\n",
       "        text-align: right;\n",
       "    }\n",
       "\n",
       "    .dataframe thead th {\n",
       "        text-align: left;\n",
       "    }\n",
       "\n",
       "    .dataframe tbody tr th {\n",
       "        vertical-align: top;\n",
       "    }\n",
       "</style>\n",
       "<table border=\"1\" class=\"dataframe\">\n",
       "  <thead>\n",
       "    <tr style=\"text-align: right;\">\n",
       "      <th></th>\n",
       "      <th>comments_disabled</th>\n",
       "      <th>dimensions</th>\n",
       "      <th>display_url</th>\n",
       "      <th>edge_liked_by</th>\n",
       "      <th>edge_media_preview_like</th>\n",
       "      <th>edge_media_to_caption</th>\n",
       "      <th>edge_media_to_comment</th>\n",
       "      <th>id</th>\n",
       "      <th>is_video</th>\n",
       "      <th>location</th>\n",
       "      <th>owner</th>\n",
       "      <th>shortcode</th>\n",
       "      <th>tags</th>\n",
       "      <th>taken_at_timestamp</th>\n",
       "      <th>thumbnail_resources</th>\n",
       "      <th>thumbnail_src</th>\n",
       "      <th>urls</th>\n",
       "      <th>video_view_count</th>\n",
       "    </tr>\n",
       "  </thead>\n",
       "  <tbody>\n",
       "    <tr>\n",
       "      <th>0</th>\n",
       "      <td>NaN</td>\n",
       "      <td>{'height': 1080, 'width': 1080}</td>\n",
       "      <td>https://scontent-atl3-1.cdninstagram.com/vp/02...</td>\n",
       "      <td>{'count': 31}</td>\n",
       "      <td>{'count': 31}</td>\n",
       "      <td>{'edges': [{'node': {'text': 'Breathtaking vie...</td>\n",
       "      <td>{'count': 2}</td>\n",
       "      <td>1768635695000550746</td>\n",
       "      <td>False</td>\n",
       "      <td>{'has_public_page': True, 'id': '236999748', '...</td>\n",
       "      <td>{'id': '49135036'}</td>\n",
       "      <td>BiLdMtBlX1a</td>\n",
       "      <td>[HuangShan, cablecar]</td>\n",
       "      <td>1525057826</td>\n",
       "      <td>[{'config_height': 150, 'config_width': 150, '...</td>\n",
       "      <td>https://scontent-atl3-1.cdninstagram.com/vp/b8...</td>\n",
       "      <td>[https://scontent-atl3-1.cdninstagram.com/vp/0...</td>\n",
       "      <td>NaN</td>\n",
       "    </tr>\n",
       "    <tr>\n",
       "      <th>1</th>\n",
       "      <td>NaN</td>\n",
       "      <td>{'height': 706, 'width': 1080}</td>\n",
       "      <td>https://scontent-atl3-1.cdninstagram.com/vp/31...</td>\n",
       "      <td>{'count': 105}</td>\n",
       "      <td>{'count': 105}</td>\n",
       "      <td>{'edges': [{'node': {'text': 'I’m grateful for...</td>\n",
       "      <td>{'count': 4}</td>\n",
       "      <td>1779027164797484376</td>\n",
       "      <td>False</td>\n",
       "      <td>{'has_public_page': True, 'id': '236999748', '...</td>\n",
       "      <td>{'id': '184152999'}</td>\n",
       "      <td>BiwX8fbhj1Y</td>\n",
       "      <td>[]</td>\n",
       "      <td>1526296586</td>\n",
       "      <td>[{'config_height': 150, 'config_width': 150, '...</td>\n",
       "      <td>https://scontent-atl3-1.cdninstagram.com/vp/b2...</td>\n",
       "      <td>[https://scontent-atl3-1.cdninstagram.com/vp/3...</td>\n",
       "      <td>NaN</td>\n",
       "    </tr>\n",
       "    <tr>\n",
       "      <th>2</th>\n",
       "      <td>NaN</td>\n",
       "      <td>{'height': 1350, 'width': 1080}</td>\n",
       "      <td>https://scontent-atl3-1.cdninstagram.com/vp/e8...</td>\n",
       "      <td>{'count': 902}</td>\n",
       "      <td>{'count': 902}</td>\n",
       "      <td>{'edges': [{'node': {'text': '徽州古城 Wandering a...</td>\n",
       "      <td>{'count': 333}</td>\n",
       "      <td>1751782291691387418</td>\n",
       "      <td>False</td>\n",
       "      <td>{'has_public_page': True, 'id': '361110201', '...</td>\n",
       "      <td>{'id': '5064849724'}</td>\n",
       "      <td>BhPlLaEFboa</td>\n",
       "      <td>[girlsthatwander, shotzdelight, asia_vacations...</td>\n",
       "      <td>1523048744</td>\n",
       "      <td>[{'config_height': 150, 'config_width': 150, '...</td>\n",
       "      <td>https://scontent-atl3-1.cdninstagram.com/vp/b8...</td>\n",
       "      <td>[https://scontent-atl3-1.cdninstagram.com/vp/e...</td>\n",
       "      <td>NaN</td>\n",
       "    </tr>\n",
       "    <tr>\n",
       "      <th>3</th>\n",
       "      <td>NaN</td>\n",
       "      <td>{'height': 1083, 'width': 1080}</td>\n",
       "      <td>https://scontent-atl3-1.cdninstagram.com/vp/cc...</td>\n",
       "      <td>{'count': 35}</td>\n",
       "      <td>{'count': 35}</td>\n",
       "      <td>{'edges': [{'node': {'text': '#huangshan #moun...</td>\n",
       "      <td>{'count': 5}</td>\n",
       "      <td>1763494337332593967</td>\n",
       "      <td>False</td>\n",
       "      <td>None</td>\n",
       "      <td>{'id': '314391040'}</td>\n",
       "      <td>Bh5MMGkH0Uv</td>\n",
       "      <td>[free, mountains, hiking, huangshan, fresh]</td>\n",
       "      <td>1524444928</td>\n",
       "      <td>[{'config_height': 150, 'config_width': 150, '...</td>\n",
       "      <td>https://scontent-atl3-1.cdninstagram.com/vp/bb...</td>\n",
       "      <td>[https://scontent-atl3-1.cdninstagram.com/vp/c...</td>\n",
       "      <td>NaN</td>\n",
       "    </tr>\n",
       "    <tr>\n",
       "      <th>4</th>\n",
       "      <td>NaN</td>\n",
       "      <td>{'height': 1349, 'width': 1080}</td>\n",
       "      <td>https://scontent-atl3-1.cdninstagram.com/vp/7b...</td>\n",
       "      <td>{'count': 124}</td>\n",
       "      <td>{'count': 124}</td>\n",
       "      <td>{'edges': [{'node': {'text': 'One of my favori...</td>\n",
       "      <td>{'count': 15}</td>\n",
       "      <td>1779157559519623087</td>\n",
       "      <td>False</td>\n",
       "      <td>{'has_public_page': True, 'id': '361110201', '...</td>\n",
       "      <td>{'id': '1525150815'}</td>\n",
       "      <td>Biw1l--njev</td>\n",
       "      <td>[forgetyourownpath, chinahighlights, sonyalpha...</td>\n",
       "      <td>1526312130</td>\n",
       "      <td>[{'config_height': 150, 'config_width': 150, '...</td>\n",
       "      <td>https://scontent-atl3-1.cdninstagram.com/vp/4f...</td>\n",
       "      <td>[https://scontent-atl3-1.cdninstagram.com/vp/7...</td>\n",
       "      <td>NaN</td>\n",
       "    </tr>\n",
       "  </tbody>\n",
       "</table>\n",
       "</div>"
      ],
      "text/plain": [
       "  comments_disabled                       dimensions  \\\n",
       "0               NaN  {'height': 1080, 'width': 1080}   \n",
       "1               NaN   {'height': 706, 'width': 1080}   \n",
       "2               NaN  {'height': 1350, 'width': 1080}   \n",
       "3               NaN  {'height': 1083, 'width': 1080}   \n",
       "4               NaN  {'height': 1349, 'width': 1080}   \n",
       "\n",
       "                                         display_url   edge_liked_by  \\\n",
       "0  https://scontent-atl3-1.cdninstagram.com/vp/02...   {'count': 31}   \n",
       "1  https://scontent-atl3-1.cdninstagram.com/vp/31...  {'count': 105}   \n",
       "2  https://scontent-atl3-1.cdninstagram.com/vp/e8...  {'count': 902}   \n",
       "3  https://scontent-atl3-1.cdninstagram.com/vp/cc...   {'count': 35}   \n",
       "4  https://scontent-atl3-1.cdninstagram.com/vp/7b...  {'count': 124}   \n",
       "\n",
       "  edge_media_preview_like                              edge_media_to_caption  \\\n",
       "0           {'count': 31}  {'edges': [{'node': {'text': 'Breathtaking vie...   \n",
       "1          {'count': 105}  {'edges': [{'node': {'text': 'I’m grateful for...   \n",
       "2          {'count': 902}  {'edges': [{'node': {'text': '徽州古城 Wandering a...   \n",
       "3           {'count': 35}  {'edges': [{'node': {'text': '#huangshan #moun...   \n",
       "4          {'count': 124}  {'edges': [{'node': {'text': 'One of my favori...   \n",
       "\n",
       "  edge_media_to_comment                   id  is_video  \\\n",
       "0          {'count': 2}  1768635695000550746     False   \n",
       "1          {'count': 4}  1779027164797484376     False   \n",
       "2        {'count': 333}  1751782291691387418     False   \n",
       "3          {'count': 5}  1763494337332593967     False   \n",
       "4         {'count': 15}  1779157559519623087     False   \n",
       "\n",
       "                                            location                 owner  \\\n",
       "0  {'has_public_page': True, 'id': '236999748', '...    {'id': '49135036'}   \n",
       "1  {'has_public_page': True, 'id': '236999748', '...   {'id': '184152999'}   \n",
       "2  {'has_public_page': True, 'id': '361110201', '...  {'id': '5064849724'}   \n",
       "3                                               None   {'id': '314391040'}   \n",
       "4  {'has_public_page': True, 'id': '361110201', '...  {'id': '1525150815'}   \n",
       "\n",
       "     shortcode                                               tags  \\\n",
       "0  BiLdMtBlX1a                              [HuangShan, cablecar]   \n",
       "1  BiwX8fbhj1Y                                                 []   \n",
       "2  BhPlLaEFboa  [girlsthatwander, shotzdelight, asia_vacations...   \n",
       "3  Bh5MMGkH0Uv        [free, mountains, hiking, huangshan, fresh]   \n",
       "4  Biw1l--njev  [forgetyourownpath, chinahighlights, sonyalpha...   \n",
       "\n",
       "   taken_at_timestamp                                thumbnail_resources  \\\n",
       "0          1525057826  [{'config_height': 150, 'config_width': 150, '...   \n",
       "1          1526296586  [{'config_height': 150, 'config_width': 150, '...   \n",
       "2          1523048744  [{'config_height': 150, 'config_width': 150, '...   \n",
       "3          1524444928  [{'config_height': 150, 'config_width': 150, '...   \n",
       "4          1526312130  [{'config_height': 150, 'config_width': 150, '...   \n",
       "\n",
       "                                       thumbnail_src  \\\n",
       "0  https://scontent-atl3-1.cdninstagram.com/vp/b8...   \n",
       "1  https://scontent-atl3-1.cdninstagram.com/vp/b2...   \n",
       "2  https://scontent-atl3-1.cdninstagram.com/vp/b8...   \n",
       "3  https://scontent-atl3-1.cdninstagram.com/vp/bb...   \n",
       "4  https://scontent-atl3-1.cdninstagram.com/vp/4f...   \n",
       "\n",
       "                                                urls  video_view_count  \n",
       "0  [https://scontent-atl3-1.cdninstagram.com/vp/0...               NaN  \n",
       "1  [https://scontent-atl3-1.cdninstagram.com/vp/3...               NaN  \n",
       "2  [https://scontent-atl3-1.cdninstagram.com/vp/e...               NaN  \n",
       "3  [https://scontent-atl3-1.cdninstagram.com/vp/c...               NaN  \n",
       "4  [https://scontent-atl3-1.cdninstagram.com/vp/7...               NaN  "
      ]
     },
     "execution_count": 4,
     "metadata": {},
     "output_type": "execute_result"
    }
   ],
   "source": [
    "df = pd.DataFrame(data)\n",
    "df.head()"
   ]
  },
  {
   "cell_type": "code",
   "execution_count": 5,
   "metadata": {
    "collapsed": true
   },
   "outputs": [],
   "source": [
    "df['likes'] = df['edge_liked_by'].apply(lambda x:x['count'])\n",
    "df['comment'] = df['edge_media_to_comment'].apply(lambda x:x['count'])\n",
    "df['text'] = df['edge_media_to_caption'].apply(lambda x: x['edges'][0]['node']['text'] if len(x['edges']) else '')\n",
    "df['owner'] = df['owner'].apply(lambda x:x['id'])\n",
    "df['time'] = pd.to_datetime(df['taken_at_timestamp'],unit='s')"
   ]
  },
  {
   "cell_type": "code",
   "execution_count": 7,
   "metadata": {
    "collapsed": true
   },
   "outputs": [],
   "source": [
    "clean_df = df[['id', 'likes', 'comment', 'text', 'owner', 'tags', 'time']]"
   ]
  },
  {
   "cell_type": "code",
   "execution_count": 8,
   "metadata": {},
   "outputs": [
    {
     "data": {
      "text/html": [
       "<div>\n",
       "<style>\n",
       "    .dataframe thead tr:only-child th {\n",
       "        text-align: right;\n",
       "    }\n",
       "\n",
       "    .dataframe thead th {\n",
       "        text-align: left;\n",
       "    }\n",
       "\n",
       "    .dataframe tbody tr th {\n",
       "        vertical-align: top;\n",
       "    }\n",
       "</style>\n",
       "<table border=\"1\" class=\"dataframe\">\n",
       "  <thead>\n",
       "    <tr style=\"text-align: right;\">\n",
       "      <th></th>\n",
       "      <th>id</th>\n",
       "      <th>likes</th>\n",
       "      <th>comment</th>\n",
       "      <th>text</th>\n",
       "      <th>owner</th>\n",
       "      <th>tags</th>\n",
       "      <th>time</th>\n",
       "    </tr>\n",
       "  </thead>\n",
       "  <tbody>\n",
       "    <tr>\n",
       "      <th>0</th>\n",
       "      <td>1768635695000550746</td>\n",
       "      <td>31</td>\n",
       "      <td>2</td>\n",
       "      <td>Breathtaking view #HuangShan #cablecar</td>\n",
       "      <td>49135036</td>\n",
       "      <td>[HuangShan, cablecar]</td>\n",
       "      <td>2018-04-30 03:10:26</td>\n",
       "    </tr>\n",
       "    <tr>\n",
       "      <th>1</th>\n",
       "      <td>1779027164797484376</td>\n",
       "      <td>105</td>\n",
       "      <td>4</td>\n",
       "      <td>I’m grateful for the trees and mountains that ...</td>\n",
       "      <td>184152999</td>\n",
       "      <td>[]</td>\n",
       "      <td>2018-05-14 11:16:26</td>\n",
       "    </tr>\n",
       "    <tr>\n",
       "      <th>2</th>\n",
       "      <td>1751782291691387418</td>\n",
       "      <td>902</td>\n",
       "      <td>333</td>\n",
       "      <td>徽州古城 Wandering around an ancient Chinese garde...</td>\n",
       "      <td>5064849724</td>\n",
       "      <td>[girlsthatwander, shotzdelight, asia_vacations...</td>\n",
       "      <td>2018-04-06 21:05:44</td>\n",
       "    </tr>\n",
       "    <tr>\n",
       "      <th>3</th>\n",
       "      <td>1763494337332593967</td>\n",
       "      <td>35</td>\n",
       "      <td>5</td>\n",
       "      <td>#huangshan #mountains #hiking #free #fresh</td>\n",
       "      <td>314391040</td>\n",
       "      <td>[free, mountains, hiking, huangshan, fresh]</td>\n",
       "      <td>2018-04-23 00:55:28</td>\n",
       "    </tr>\n",
       "    <tr>\n",
       "      <th>4</th>\n",
       "      <td>1779157559519623087</td>\n",
       "      <td>124</td>\n",
       "      <td>15</td>\n",
       "      <td>One of my favorite shots of Huangshan! The tre...</td>\n",
       "      <td>1525150815</td>\n",
       "      <td>[forgetyourownpath, chinahighlights, sonyalpha...</td>\n",
       "      <td>2018-05-14 15:35:30</td>\n",
       "    </tr>\n",
       "  </tbody>\n",
       "</table>\n",
       "</div>"
      ],
      "text/plain": [
       "                    id  likes  comment  \\\n",
       "0  1768635695000550746     31        2   \n",
       "1  1779027164797484376    105        4   \n",
       "2  1751782291691387418    902      333   \n",
       "3  1763494337332593967     35        5   \n",
       "4  1779157559519623087    124       15   \n",
       "\n",
       "                                                text       owner  \\\n",
       "0             Breathtaking view #HuangShan #cablecar    49135036   \n",
       "1  I’m grateful for the trees and mountains that ...   184152999   \n",
       "2  徽州古城 Wandering around an ancient Chinese garde...  5064849724   \n",
       "3         #huangshan #mountains #hiking #free #fresh   314391040   \n",
       "4  One of my favorite shots of Huangshan! The tre...  1525150815   \n",
       "\n",
       "                                                tags                time  \n",
       "0                              [HuangShan, cablecar] 2018-04-30 03:10:26  \n",
       "1                                                 [] 2018-05-14 11:16:26  \n",
       "2  [girlsthatwander, shotzdelight, asia_vacations... 2018-04-06 21:05:44  \n",
       "3        [free, mountains, hiking, huangshan, fresh] 2018-04-23 00:55:28  \n",
       "4  [forgetyourownpath, chinahighlights, sonyalpha... 2018-05-14 15:35:30  "
      ]
     },
     "execution_count": 8,
     "metadata": {},
     "output_type": "execute_result"
    }
   ],
   "source": [
    "clean_df.head()"
   ]
  },
  {
   "cell_type": "code",
   "execution_count": 9,
   "metadata": {},
   "outputs": [
    {
     "data": {
      "text/plain": [
       "36981"
      ]
     },
     "execution_count": 9,
     "metadata": {},
     "output_type": "execute_result"
    }
   ],
   "source": [
    "len(clean_df)  # number of posts"
   ]
  },
  {
   "cell_type": "code",
   "execution_count": 10,
   "metadata": {},
   "outputs": [
    {
     "data": {
      "text/plain": [
       "36972"
      ]
     },
     "execution_count": 10,
     "metadata": {},
     "output_type": "execute_result"
    }
   ],
   "source": [
    "len(clean_df['id'].unique())  # unique posts"
   ]
  },
  {
   "cell_type": "code",
   "execution_count": 11,
   "metadata": {},
   "outputs": [
    {
     "data": {
      "text/plain": [
       "13013"
      ]
     },
     "execution_count": 11,
     "metadata": {},
     "output_type": "execute_result"
    }
   ],
   "source": [
    "len(clean_df['owner'].unique())   # the users"
   ]
  },
  {
   "cell_type": "code",
   "execution_count": 12,
   "metadata": {},
   "outputs": [
    {
     "name": "stderr",
     "output_type": "stream",
     "text": [
      "C:\\Users\\User\\Anaconda3\\lib\\site-packages\\ipykernel_launcher.py:1: SettingWithCopyWarning: \n",
      "A value is trying to be set on a copy of a slice from a DataFrame.\n",
      "Try using .loc[row_indexer,col_indexer] = value instead\n",
      "\n",
      "See the caveats in the documentation: http://pandas.pydata.org/pandas-docs/stable/indexing.html#indexing-view-versus-copy\n",
      "  \"\"\"Entry point for launching an IPython kernel.\n"
     ]
    }
   ],
   "source": [
    "clean_df['time'] = clean_df['time'] + pd.Timedelta(hours=8)  # change time to china hour"
   ]
  },
  {
   "cell_type": "code",
   "execution_count": 13,
   "metadata": {},
   "outputs": [
    {
     "data": {
      "text/plain": [
       "count                   36981\n",
       "unique                  36917\n",
       "top       2018-03-29 20:42:41\n",
       "freq                        5\n",
       "first     2011-01-07 21:00:22\n",
       "last      2018-05-15 05:34:50\n",
       "Name: time, dtype: object"
      ]
     },
     "execution_count": 13,
     "metadata": {},
     "output_type": "execute_result"
    }
   ],
   "source": [
    "# time\n",
    "clean_df['time'].describe()"
   ]
  },
  {
   "cell_type": "code",
   "execution_count": 14,
   "metadata": {},
   "outputs": [
    {
     "data": {
      "text/plain": [
       "36790"
      ]
     },
     "execution_count": 14,
     "metadata": {},
     "output_type": "execute_result"
    }
   ],
   "source": [
    "clean_df = clean_df[clean_df['text']!='']\n",
    "len(clean_df)"
   ]
  },
  {
   "cell_type": "code",
   "execution_count": 15,
   "metadata": {
    "collapsed": true
   },
   "outputs": [],
   "source": [
    "# remove the speical character from text\n",
    "def clean(text):\n",
    "    words = map(lambda word: word.lower(), word_tokenize(text))\n",
    "    p = re.compile('\\w+')   #make sure each word are meaningful\n",
    "    cleaned_words = list(filter(lambda token: p.match(token), words));\n",
    "    return \" \".join(cleaned_words)\n",
    "clean_df['clean_text'] = clean_df['text'].apply(clean)"
   ]
  },
  {
   "cell_type": "markdown",
   "metadata": {},
   "source": [
    "# detect language"
   ]
  },
  {
   "cell_type": "code",
   "execution_count": 16,
   "metadata": {
    "collapsed": true
   },
   "outputs": [],
   "source": [
    "from collections import defaultdict\n",
    "from googletrans import Translator"
   ]
  },
  {
   "cell_type": "code",
   "execution_count": 23,
   "metadata": {
    "collapsed": true
   },
   "outputs": [],
   "source": [
    "def detect_lang(row):\n",
    "    try:\n",
    "        translator = Translator()\n",
    "        translation = translator.translate(row['clean_text'])\n",
    "        row['lang'] = translation.src\n",
    "        row['trans'] = translation.text\n",
    "        return row\n",
    "    except:\n",
    "        #return ['en', row]\n",
    "        row['lang'] = 'en'\n",
    "        row['trans'] = row['clean_text']\n",
    "        return row"
   ]
  },
  {
   "cell_type": "code",
   "execution_count": 25,
   "metadata": {
    "scrolled": true
   },
   "outputs": [
    {
     "ename": "AttributeError",
     "evalue": "'NoneType' object has no attribute 'group'",
     "output_type": "error",
     "traceback": [
      "\u001b[1;31m---------------------------------------------------------------------------\u001b[0m",
      "\u001b[1;31mAttributeError\u001b[0m                            Traceback (most recent call last)",
      "\u001b[1;32m<ipython-input-25-3f4d510c9e2f>\u001b[0m in \u001b[0;36m<module>\u001b[1;34m()\u001b[0m\n\u001b[0;32m      1\u001b[0m \u001b[0mtranslator\u001b[0m \u001b[1;33m=\u001b[0m \u001b[0mTranslator\u001b[0m\u001b[1;33m(\u001b[0m\u001b[1;33m)\u001b[0m\u001b[1;33m\u001b[0m\u001b[0m\n\u001b[1;32m----> 2\u001b[1;33m \u001b[0mtranslator\u001b[0m\u001b[1;33m.\u001b[0m\u001b[0mtranslate\u001b[0m\u001b[1;33m(\u001b[0m\u001b[1;34m'徽州古城'\u001b[0m\u001b[1;33m)\u001b[0m\u001b[1;33m\u001b[0m\u001b[0m\n\u001b[0m",
      "\u001b[1;32mC:\\Users\\User\\Anaconda3\\lib\\site-packages\\googletrans\\client.py\u001b[0m in \u001b[0;36mtranslate\u001b[1;34m(self, text, dest, src)\u001b[0m\n\u001b[0;32m    130\u001b[0m \u001b[1;33m\u001b[0m\u001b[0m\n\u001b[0;32m    131\u001b[0m         \u001b[0morigin\u001b[0m \u001b[1;33m=\u001b[0m \u001b[0mtext\u001b[0m\u001b[1;33m\u001b[0m\u001b[0m\n\u001b[1;32m--> 132\u001b[1;33m         \u001b[0mdata\u001b[0m \u001b[1;33m=\u001b[0m \u001b[0mself\u001b[0m\u001b[1;33m.\u001b[0m\u001b[0m_translate\u001b[0m\u001b[1;33m(\u001b[0m\u001b[0mtext\u001b[0m\u001b[1;33m,\u001b[0m \u001b[0mdest\u001b[0m\u001b[1;33m,\u001b[0m \u001b[0msrc\u001b[0m\u001b[1;33m)\u001b[0m\u001b[1;33m\u001b[0m\u001b[0m\n\u001b[0m\u001b[0;32m    133\u001b[0m \u001b[1;33m\u001b[0m\u001b[0m\n\u001b[0;32m    134\u001b[0m         \u001b[1;31m# this code will be updated when the format is changed.\u001b[0m\u001b[1;33m\u001b[0m\u001b[1;33m\u001b[0m\u001b[0m\n",
      "\u001b[1;32mC:\\Users\\User\\Anaconda3\\lib\\site-packages\\googletrans\\client.py\u001b[0m in \u001b[0;36m_translate\u001b[1;34m(self, text, dest, src)\u001b[0m\n\u001b[0;32m     55\u001b[0m             \u001b[0mtext\u001b[0m \u001b[1;33m=\u001b[0m \u001b[0mtext\u001b[0m\u001b[1;33m.\u001b[0m\u001b[0mdecode\u001b[0m\u001b[1;33m(\u001b[0m\u001b[1;34m'utf-8'\u001b[0m\u001b[1;33m)\u001b[0m\u001b[1;33m\u001b[0m\u001b[0m\n\u001b[0;32m     56\u001b[0m \u001b[1;33m\u001b[0m\u001b[0m\n\u001b[1;32m---> 57\u001b[1;33m         \u001b[0mtoken\u001b[0m \u001b[1;33m=\u001b[0m \u001b[0mself\u001b[0m\u001b[1;33m.\u001b[0m\u001b[0mtoken_acquirer\u001b[0m\u001b[1;33m.\u001b[0m\u001b[0mdo\u001b[0m\u001b[1;33m(\u001b[0m\u001b[0mtext\u001b[0m\u001b[1;33m)\u001b[0m\u001b[1;33m\u001b[0m\u001b[0m\n\u001b[0m\u001b[0;32m     58\u001b[0m         params = utils.build_params(query=text, src=src, dest=dest,\n\u001b[0;32m     59\u001b[0m                                     token=token)\n",
      "\u001b[1;32mC:\\Users\\User\\Anaconda3\\lib\\site-packages\\googletrans\\gtoken.py\u001b[0m in \u001b[0;36mdo\u001b[1;34m(self, text)\u001b[0m\n\u001b[0;32m    178\u001b[0m \u001b[1;33m\u001b[0m\u001b[0m\n\u001b[0;32m    179\u001b[0m     \u001b[1;32mdef\u001b[0m \u001b[0mdo\u001b[0m\u001b[1;33m(\u001b[0m\u001b[0mself\u001b[0m\u001b[1;33m,\u001b[0m \u001b[0mtext\u001b[0m\u001b[1;33m)\u001b[0m\u001b[1;33m:\u001b[0m\u001b[1;33m\u001b[0m\u001b[0m\n\u001b[1;32m--> 180\u001b[1;33m         \u001b[0mself\u001b[0m\u001b[1;33m.\u001b[0m\u001b[0m_update\u001b[0m\u001b[1;33m(\u001b[0m\u001b[1;33m)\u001b[0m\u001b[1;33m\u001b[0m\u001b[0m\n\u001b[0m\u001b[0;32m    181\u001b[0m         \u001b[0mtk\u001b[0m \u001b[1;33m=\u001b[0m \u001b[0mself\u001b[0m\u001b[1;33m.\u001b[0m\u001b[0macquire\u001b[0m\u001b[1;33m(\u001b[0m\u001b[0mtext\u001b[0m\u001b[1;33m)\u001b[0m\u001b[1;33m\u001b[0m\u001b[0m\n\u001b[0;32m    182\u001b[0m         \u001b[1;32mreturn\u001b[0m \u001b[0mtk\u001b[0m\u001b[1;33m\u001b[0m\u001b[0m\n",
      "\u001b[1;32mC:\\Users\\User\\Anaconda3\\lib\\site-packages\\googletrans\\gtoken.py\u001b[0m in \u001b[0;36m_update\u001b[1;34m(self)\u001b[0m\n\u001b[0;32m     57\u001b[0m         \u001b[0mr\u001b[0m \u001b[1;33m=\u001b[0m \u001b[0mself\u001b[0m\u001b[1;33m.\u001b[0m\u001b[0msession\u001b[0m\u001b[1;33m.\u001b[0m\u001b[0mget\u001b[0m\u001b[1;33m(\u001b[0m\u001b[0mself\u001b[0m\u001b[1;33m.\u001b[0m\u001b[0mhost\u001b[0m\u001b[1;33m)\u001b[0m\u001b[1;33m\u001b[0m\u001b[0m\n\u001b[0;32m     58\u001b[0m         \u001b[1;31m# this will be the same as python code after stripping out a reserved word 'var'\u001b[0m\u001b[1;33m\u001b[0m\u001b[1;33m\u001b[0m\u001b[0m\n\u001b[1;32m---> 59\u001b[1;33m         \u001b[0mcode\u001b[0m \u001b[1;33m=\u001b[0m \u001b[0municode\u001b[0m\u001b[1;33m(\u001b[0m\u001b[0mself\u001b[0m\u001b[1;33m.\u001b[0m\u001b[0mRE_TKK\u001b[0m\u001b[1;33m.\u001b[0m\u001b[0msearch\u001b[0m\u001b[1;33m(\u001b[0m\u001b[0mr\u001b[0m\u001b[1;33m.\u001b[0m\u001b[0mtext\u001b[0m\u001b[1;33m)\u001b[0m\u001b[1;33m.\u001b[0m\u001b[0mgroup\u001b[0m\u001b[1;33m(\u001b[0m\u001b[1;36m1\u001b[0m\u001b[1;33m)\u001b[0m\u001b[1;33m)\u001b[0m\u001b[1;33m.\u001b[0m\u001b[0mreplace\u001b[0m\u001b[1;33m(\u001b[0m\u001b[1;34m'var '\u001b[0m\u001b[1;33m,\u001b[0m \u001b[1;34m''\u001b[0m\u001b[1;33m)\u001b[0m\u001b[1;33m\u001b[0m\u001b[0m\n\u001b[0m\u001b[0;32m     60\u001b[0m         \u001b[1;31m# unescape special ascii characters such like a \\x3d(=)\u001b[0m\u001b[1;33m\u001b[0m\u001b[1;33m\u001b[0m\u001b[0m\n\u001b[0;32m     61\u001b[0m         \u001b[1;32mif\u001b[0m \u001b[0mPY3\u001b[0m\u001b[1;33m:\u001b[0m  \u001b[1;31m# pragma: no cover\u001b[0m\u001b[1;33m\u001b[0m\u001b[0m\n",
      "\u001b[1;31mAttributeError\u001b[0m: 'NoneType' object has no attribute 'group'"
     ]
    }
   ],
   "source": [
    "translator = Translator()\n",
    "translator.translate('徽州古城')"
   ]
  },
  {
   "cell_type": "code",
   "execution_count": 24,
   "metadata": {},
   "outputs": [
    {
     "data": {
      "text/html": [
       "<div>\n",
       "<style>\n",
       "    .dataframe thead tr:only-child th {\n",
       "        text-align: right;\n",
       "    }\n",
       "\n",
       "    .dataframe thead th {\n",
       "        text-align: left;\n",
       "    }\n",
       "\n",
       "    .dataframe tbody tr th {\n",
       "        vertical-align: top;\n",
       "    }\n",
       "</style>\n",
       "<table border=\"1\" class=\"dataframe\">\n",
       "  <thead>\n",
       "    <tr style=\"text-align: right;\">\n",
       "      <th></th>\n",
       "      <th>id</th>\n",
       "      <th>likes</th>\n",
       "      <th>comment</th>\n",
       "      <th>text</th>\n",
       "      <th>owner</th>\n",
       "      <th>tags</th>\n",
       "      <th>time</th>\n",
       "      <th>clean_text</th>\n",
       "      <th>lang</th>\n",
       "      <th>trans</th>\n",
       "    </tr>\n",
       "  </thead>\n",
       "  <tbody>\n",
       "    <tr>\n",
       "      <th>0</th>\n",
       "      <td>1768635695000550746</td>\n",
       "      <td>31</td>\n",
       "      <td>2</td>\n",
       "      <td>Breathtaking view #HuangShan #cablecar</td>\n",
       "      <td>49135036</td>\n",
       "      <td>[HuangShan, cablecar]</td>\n",
       "      <td>2018-04-30 11:10:26</td>\n",
       "      <td>breathtaking view huangshan cablecar</td>\n",
       "      <td>en</td>\n",
       "      <td>breathtaking view huangshan cablecar</td>\n",
       "    </tr>\n",
       "    <tr>\n",
       "      <th>1</th>\n",
       "      <td>1779027164797484376</td>\n",
       "      <td>105</td>\n",
       "      <td>4</td>\n",
       "      <td>I’m grateful for the trees and mountains that ...</td>\n",
       "      <td>184152999</td>\n",
       "      <td>[]</td>\n",
       "      <td>2018-05-14 19:16:26</td>\n",
       "      <td>i m grateful for the trees and mountains that ...</td>\n",
       "      <td>en</td>\n",
       "      <td>i m grateful for the trees and mountains that ...</td>\n",
       "    </tr>\n",
       "    <tr>\n",
       "      <th>2</th>\n",
       "      <td>1751782291691387418</td>\n",
       "      <td>902</td>\n",
       "      <td>333</td>\n",
       "      <td>徽州古城 Wandering around an ancient Chinese garde...</td>\n",
       "      <td>5064849724</td>\n",
       "      <td>[girlsthatwander, shotzdelight, asia_vacations...</td>\n",
       "      <td>2018-04-07 05:05:44</td>\n",
       "      <td>徽州古城 wandering around an ancient chinese garde...</td>\n",
       "      <td>en</td>\n",
       "      <td>徽州古城 wandering around an ancient chinese garde...</td>\n",
       "    </tr>\n",
       "    <tr>\n",
       "      <th>3</th>\n",
       "      <td>1763494337332593967</td>\n",
       "      <td>35</td>\n",
       "      <td>5</td>\n",
       "      <td>#huangshan #mountains #hiking #free #fresh</td>\n",
       "      <td>314391040</td>\n",
       "      <td>[free, mountains, hiking, huangshan, fresh]</td>\n",
       "      <td>2018-04-23 08:55:28</td>\n",
       "      <td>huangshan mountains hiking free fresh</td>\n",
       "      <td>en</td>\n",
       "      <td>huangshan mountains hiking free fresh</td>\n",
       "    </tr>\n",
       "    <tr>\n",
       "      <th>4</th>\n",
       "      <td>1779157559519623087</td>\n",
       "      <td>124</td>\n",
       "      <td>15</td>\n",
       "      <td>One of my favorite shots of Huangshan! The tre...</td>\n",
       "      <td>1525150815</td>\n",
       "      <td>[forgetyourownpath, chinahighlights, sonyalpha...</td>\n",
       "      <td>2018-05-14 23:35:30</td>\n",
       "      <td>one of my favorite shots of huangshan the tree...</td>\n",
       "      <td>en</td>\n",
       "      <td>one of my favorite shots of huangshan the tree...</td>\n",
       "    </tr>\n",
       "  </tbody>\n",
       "</table>\n",
       "</div>"
      ],
      "text/plain": [
       "                    id  likes  comment  \\\n",
       "0  1768635695000550746     31        2   \n",
       "1  1779027164797484376    105        4   \n",
       "2  1751782291691387418    902      333   \n",
       "3  1763494337332593967     35        5   \n",
       "4  1779157559519623087    124       15   \n",
       "\n",
       "                                                text       owner  \\\n",
       "0             Breathtaking view #HuangShan #cablecar    49135036   \n",
       "1  I’m grateful for the trees and mountains that ...   184152999   \n",
       "2  徽州古城 Wandering around an ancient Chinese garde...  5064849724   \n",
       "3         #huangshan #mountains #hiking #free #fresh   314391040   \n",
       "4  One of my favorite shots of Huangshan! The tre...  1525150815   \n",
       "\n",
       "                                                tags                time  \\\n",
       "0                              [HuangShan, cablecar] 2018-04-30 11:10:26   \n",
       "1                                                 [] 2018-05-14 19:16:26   \n",
       "2  [girlsthatwander, shotzdelight, asia_vacations... 2018-04-07 05:05:44   \n",
       "3        [free, mountains, hiking, huangshan, fresh] 2018-04-23 08:55:28   \n",
       "4  [forgetyourownpath, chinahighlights, sonyalpha... 2018-05-14 23:35:30   \n",
       "\n",
       "                                          clean_text lang  \\\n",
       "0               breathtaking view huangshan cablecar   en   \n",
       "1  i m grateful for the trees and mountains that ...   en   \n",
       "2  徽州古城 wandering around an ancient chinese garde...   en   \n",
       "3              huangshan mountains hiking free fresh   en   \n",
       "4  one of my favorite shots of huangshan the tree...   en   \n",
       "\n",
       "                                               trans  \n",
       "0               breathtaking view huangshan cablecar  \n",
       "1  i m grateful for the trees and mountains that ...  \n",
       "2  徽州古城 wandering around an ancient chinese garde...  \n",
       "3              huangshan mountains hiking free fresh  \n",
       "4  one of my favorite shots of huangshan the tree...  "
      ]
     },
     "execution_count": 24,
     "metadata": {},
     "output_type": "execute_result"
    }
   ],
   "source": [
    "clean_df.iloc[:5,].apply(detect_lang, axis=1)"
   ]
  },
  {
   "cell_type": "code",
   "execution_count": 18,
   "metadata": {},
   "outputs": [
    {
     "name": "stderr",
     "output_type": "stream",
     "text": [
      "From cffi callback <function _verify_callback at 0x000000002884E268>:\n",
      "Traceback (most recent call last):\n",
      "  File \"C:\\Users\\User\\Anaconda3\\lib\\site-packages\\OpenSSL\\SSL.py\", line 201, in wrapper\n",
      "    @wraps(callback)\n",
      "KeyboardInterrupt\n"
     ]
    },
    {
     "ename": "KeyboardInterrupt",
     "evalue": "",
     "output_type": "error",
     "traceback": [
      "\u001b[1;31m---------------------------------------------------------------------------\u001b[0m",
      "\u001b[1;31mKeyboardInterrupt\u001b[0m                         Traceback (most recent call last)",
      "\u001b[1;32m<ipython-input-18-5c8e5021322b>\u001b[0m in \u001b[0;36m<module>\u001b[1;34m()\u001b[0m\n\u001b[1;32m----> 1\u001b[1;33m \u001b[0mget_ipython\u001b[0m\u001b[1;33m(\u001b[0m\u001b[1;33m)\u001b[0m\u001b[1;33m.\u001b[0m\u001b[0mmagic\u001b[0m\u001b[1;33m(\u001b[0m\u001b[1;34m'time clean_df= clean_df.apply(detect_lang, axis=1)'\u001b[0m\u001b[1;33m)\u001b[0m\u001b[1;33m\u001b[0m\u001b[0m\n\u001b[0m",
      "\u001b[1;32mC:\\Users\\User\\Anaconda3\\lib\\site-packages\\IPython\\core\\interactiveshell.py\u001b[0m in \u001b[0;36mmagic\u001b[1;34m(self, arg_s)\u001b[0m\n\u001b[0;32m   2156\u001b[0m         \u001b[0mmagic_name\u001b[0m\u001b[1;33m,\u001b[0m \u001b[0m_\u001b[0m\u001b[1;33m,\u001b[0m \u001b[0mmagic_arg_s\u001b[0m \u001b[1;33m=\u001b[0m \u001b[0marg_s\u001b[0m\u001b[1;33m.\u001b[0m\u001b[0mpartition\u001b[0m\u001b[1;33m(\u001b[0m\u001b[1;34m' '\u001b[0m\u001b[1;33m)\u001b[0m\u001b[1;33m\u001b[0m\u001b[0m\n\u001b[0;32m   2157\u001b[0m         \u001b[0mmagic_name\u001b[0m \u001b[1;33m=\u001b[0m \u001b[0mmagic_name\u001b[0m\u001b[1;33m.\u001b[0m\u001b[0mlstrip\u001b[0m\u001b[1;33m(\u001b[0m\u001b[0mprefilter\u001b[0m\u001b[1;33m.\u001b[0m\u001b[0mESC_MAGIC\u001b[0m\u001b[1;33m)\u001b[0m\u001b[1;33m\u001b[0m\u001b[0m\n\u001b[1;32m-> 2158\u001b[1;33m         \u001b[1;32mreturn\u001b[0m \u001b[0mself\u001b[0m\u001b[1;33m.\u001b[0m\u001b[0mrun_line_magic\u001b[0m\u001b[1;33m(\u001b[0m\u001b[0mmagic_name\u001b[0m\u001b[1;33m,\u001b[0m \u001b[0mmagic_arg_s\u001b[0m\u001b[1;33m)\u001b[0m\u001b[1;33m\u001b[0m\u001b[0m\n\u001b[0m\u001b[0;32m   2159\u001b[0m \u001b[1;33m\u001b[0m\u001b[0m\n\u001b[0;32m   2160\u001b[0m     \u001b[1;31m#-------------------------------------------------------------------------\u001b[0m\u001b[1;33m\u001b[0m\u001b[1;33m\u001b[0m\u001b[0m\n",
      "\u001b[1;32mC:\\Users\\User\\Anaconda3\\lib\\site-packages\\IPython\\core\\interactiveshell.py\u001b[0m in \u001b[0;36mrun_line_magic\u001b[1;34m(self, magic_name, line)\u001b[0m\n\u001b[0;32m   2077\u001b[0m                 \u001b[0mkwargs\u001b[0m\u001b[1;33m[\u001b[0m\u001b[1;34m'local_ns'\u001b[0m\u001b[1;33m]\u001b[0m \u001b[1;33m=\u001b[0m \u001b[0msys\u001b[0m\u001b[1;33m.\u001b[0m\u001b[0m_getframe\u001b[0m\u001b[1;33m(\u001b[0m\u001b[0mstack_depth\u001b[0m\u001b[1;33m)\u001b[0m\u001b[1;33m.\u001b[0m\u001b[0mf_locals\u001b[0m\u001b[1;33m\u001b[0m\u001b[0m\n\u001b[0;32m   2078\u001b[0m             \u001b[1;32mwith\u001b[0m \u001b[0mself\u001b[0m\u001b[1;33m.\u001b[0m\u001b[0mbuiltin_trap\u001b[0m\u001b[1;33m:\u001b[0m\u001b[1;33m\u001b[0m\u001b[0m\n\u001b[1;32m-> 2079\u001b[1;33m                 \u001b[0mresult\u001b[0m \u001b[1;33m=\u001b[0m \u001b[0mfn\u001b[0m\u001b[1;33m(\u001b[0m\u001b[1;33m*\u001b[0m\u001b[0margs\u001b[0m\u001b[1;33m,\u001b[0m\u001b[1;33m**\u001b[0m\u001b[0mkwargs\u001b[0m\u001b[1;33m)\u001b[0m\u001b[1;33m\u001b[0m\u001b[0m\n\u001b[0m\u001b[0;32m   2080\u001b[0m             \u001b[1;32mreturn\u001b[0m \u001b[0mresult\u001b[0m\u001b[1;33m\u001b[0m\u001b[0m\n\u001b[0;32m   2081\u001b[0m \u001b[1;33m\u001b[0m\u001b[0m\n",
      "\u001b[1;32m<decorator-gen-60>\u001b[0m in \u001b[0;36mtime\u001b[1;34m(self, line, cell, local_ns)\u001b[0m\n",
      "\u001b[1;32mC:\\Users\\User\\Anaconda3\\lib\\site-packages\\IPython\\core\\magic.py\u001b[0m in \u001b[0;36m<lambda>\u001b[1;34m(f, *a, **k)\u001b[0m\n\u001b[0;32m    186\u001b[0m     \u001b[1;31m# but it's overkill for just that one bit of state.\u001b[0m\u001b[1;33m\u001b[0m\u001b[1;33m\u001b[0m\u001b[0m\n\u001b[0;32m    187\u001b[0m     \u001b[1;32mdef\u001b[0m \u001b[0mmagic_deco\u001b[0m\u001b[1;33m(\u001b[0m\u001b[0marg\u001b[0m\u001b[1;33m)\u001b[0m\u001b[1;33m:\u001b[0m\u001b[1;33m\u001b[0m\u001b[0m\n\u001b[1;32m--> 188\u001b[1;33m         \u001b[0mcall\u001b[0m \u001b[1;33m=\u001b[0m \u001b[1;32mlambda\u001b[0m \u001b[0mf\u001b[0m\u001b[1;33m,\u001b[0m \u001b[1;33m*\u001b[0m\u001b[0ma\u001b[0m\u001b[1;33m,\u001b[0m \u001b[1;33m**\u001b[0m\u001b[0mk\u001b[0m\u001b[1;33m:\u001b[0m \u001b[0mf\u001b[0m\u001b[1;33m(\u001b[0m\u001b[1;33m*\u001b[0m\u001b[0ma\u001b[0m\u001b[1;33m,\u001b[0m \u001b[1;33m**\u001b[0m\u001b[0mk\u001b[0m\u001b[1;33m)\u001b[0m\u001b[1;33m\u001b[0m\u001b[0m\n\u001b[0m\u001b[0;32m    189\u001b[0m \u001b[1;33m\u001b[0m\u001b[0m\n\u001b[0;32m    190\u001b[0m         \u001b[1;32mif\u001b[0m \u001b[0mcallable\u001b[0m\u001b[1;33m(\u001b[0m\u001b[0marg\u001b[0m\u001b[1;33m)\u001b[0m\u001b[1;33m:\u001b[0m\u001b[1;33m\u001b[0m\u001b[0m\n",
      "\u001b[1;32mC:\\Users\\User\\Anaconda3\\lib\\site-packages\\IPython\\core\\magics\\execution.py\u001b[0m in \u001b[0;36mtime\u001b[1;34m(self, line, cell, local_ns)\u001b[0m\n\u001b[0;32m   1183\u001b[0m         \u001b[1;32melse\u001b[0m\u001b[1;33m:\u001b[0m\u001b[1;33m\u001b[0m\u001b[0m\n\u001b[0;32m   1184\u001b[0m             \u001b[0mst\u001b[0m \u001b[1;33m=\u001b[0m \u001b[0mclock2\u001b[0m\u001b[1;33m(\u001b[0m\u001b[1;33m)\u001b[0m\u001b[1;33m\u001b[0m\u001b[0m\n\u001b[1;32m-> 1185\u001b[1;33m             \u001b[0mexec\u001b[0m\u001b[1;33m(\u001b[0m\u001b[0mcode\u001b[0m\u001b[1;33m,\u001b[0m \u001b[0mglob\u001b[0m\u001b[1;33m,\u001b[0m \u001b[0mlocal_ns\u001b[0m\u001b[1;33m)\u001b[0m\u001b[1;33m\u001b[0m\u001b[0m\n\u001b[0m\u001b[0;32m   1186\u001b[0m             \u001b[0mend\u001b[0m \u001b[1;33m=\u001b[0m \u001b[0mclock2\u001b[0m\u001b[1;33m(\u001b[0m\u001b[1;33m)\u001b[0m\u001b[1;33m\u001b[0m\u001b[0m\n\u001b[0;32m   1187\u001b[0m             \u001b[0mout\u001b[0m \u001b[1;33m=\u001b[0m \u001b[1;32mNone\u001b[0m\u001b[1;33m\u001b[0m\u001b[0m\n",
      "\u001b[1;32m<timed exec>\u001b[0m in \u001b[0;36m<module>\u001b[1;34m()\u001b[0m\n",
      "\u001b[1;32mC:\\Users\\User\\Anaconda3\\lib\\site-packages\\pandas\\core\\frame.py\u001b[0m in \u001b[0;36mapply\u001b[1;34m(self, func, axis, broadcast, raw, reduce, args, **kwds)\u001b[0m\n\u001b[0;32m   4358\u001b[0m                         \u001b[0mf\u001b[0m\u001b[1;33m,\u001b[0m \u001b[0maxis\u001b[0m\u001b[1;33m,\u001b[0m\u001b[1;33m\u001b[0m\u001b[0m\n\u001b[0;32m   4359\u001b[0m                         \u001b[0mreduce\u001b[0m\u001b[1;33m=\u001b[0m\u001b[0mreduce\u001b[0m\u001b[1;33m,\u001b[0m\u001b[1;33m\u001b[0m\u001b[0m\n\u001b[1;32m-> 4360\u001b[1;33m                         ignore_failures=ignore_failures)\n\u001b[0m\u001b[0;32m   4361\u001b[0m             \u001b[1;32melse\u001b[0m\u001b[1;33m:\u001b[0m\u001b[1;33m\u001b[0m\u001b[0m\n\u001b[0;32m   4362\u001b[0m                 \u001b[1;32mreturn\u001b[0m \u001b[0mself\u001b[0m\u001b[1;33m.\u001b[0m\u001b[0m_apply_broadcast\u001b[0m\u001b[1;33m(\u001b[0m\u001b[0mf\u001b[0m\u001b[1;33m,\u001b[0m \u001b[0maxis\u001b[0m\u001b[1;33m)\u001b[0m\u001b[1;33m\u001b[0m\u001b[0m\n",
      "\u001b[1;32mC:\\Users\\User\\Anaconda3\\lib\\site-packages\\pandas\\core\\frame.py\u001b[0m in \u001b[0;36m_apply_standard\u001b[1;34m(self, func, axis, ignore_failures, reduce)\u001b[0m\n\u001b[0;32m   4454\u001b[0m             \u001b[1;32mtry\u001b[0m\u001b[1;33m:\u001b[0m\u001b[1;33m\u001b[0m\u001b[0m\n\u001b[0;32m   4455\u001b[0m                 \u001b[1;32mfor\u001b[0m \u001b[0mi\u001b[0m\u001b[1;33m,\u001b[0m \u001b[0mv\u001b[0m \u001b[1;32min\u001b[0m \u001b[0menumerate\u001b[0m\u001b[1;33m(\u001b[0m\u001b[0mseries_gen\u001b[0m\u001b[1;33m)\u001b[0m\u001b[1;33m:\u001b[0m\u001b[1;33m\u001b[0m\u001b[0m\n\u001b[1;32m-> 4456\u001b[1;33m                     \u001b[0mresults\u001b[0m\u001b[1;33m[\u001b[0m\u001b[0mi\u001b[0m\u001b[1;33m]\u001b[0m \u001b[1;33m=\u001b[0m \u001b[0mfunc\u001b[0m\u001b[1;33m(\u001b[0m\u001b[0mv\u001b[0m\u001b[1;33m)\u001b[0m\u001b[1;33m\u001b[0m\u001b[0m\n\u001b[0m\u001b[0;32m   4457\u001b[0m                     \u001b[0mkeys\u001b[0m\u001b[1;33m.\u001b[0m\u001b[0mappend\u001b[0m\u001b[1;33m(\u001b[0m\u001b[0mv\u001b[0m\u001b[1;33m.\u001b[0m\u001b[0mname\u001b[0m\u001b[1;33m)\u001b[0m\u001b[1;33m\u001b[0m\u001b[0m\n\u001b[0;32m   4458\u001b[0m             \u001b[1;32mexcept\u001b[0m \u001b[0mException\u001b[0m \u001b[1;32mas\u001b[0m \u001b[0me\u001b[0m\u001b[1;33m:\u001b[0m\u001b[1;33m\u001b[0m\u001b[0m\n",
      "\u001b[1;31mKeyboardInterrupt\u001b[0m: "
     ]
    }
   ],
   "source": [
    "%time clean_df= clean_df.apply(detect_lang, axis=1)"
   ]
  },
  {
   "cell_type": "code",
   "execution_count": 24,
   "metadata": {
    "collapsed": true
   },
   "outputs": [],
   "source": [
    "clean_df.to_csv('translate.csv',index=False)"
   ]
  },
  {
   "cell_type": "code",
   "execution_count": 46,
   "metadata": {},
   "outputs": [
    {
     "data": {
      "text/plain": [
       "'I’m grateful for the trees and mountains that inspire me🌲🌚 // Had a truly superb holiday finding refuge in nature. Big thanks to Seb for helping me reach full adventure capacity this weekend'"
      ]
     },
     "execution_count": 46,
     "metadata": {},
     "output_type": "execute_result"
    }
   ],
   "source": [
    "clean_df['text'][1]"
   ]
  },
  {
   "cell_type": "code",
   "execution_count": 276,
   "metadata": {},
   "outputs": [
    {
     "data": {
      "text/plain": [
       "'I’m grateful for the trees and mountains that inspire me🌲🌚 // Had a truly superb holiday finding refuge in nature. Big thanks to Seb for helping me reach full adventure capacity this weekend'"
      ]
     },
     "execution_count": 276,
     "metadata": {},
     "output_type": "execute_result"
    }
   ],
   "source": [
    "clean_df['lang'] = lang_result['lang']\n",
    "clean_df['trans'] = lang_result['trans']"
   ]
  },
  {
   "cell_type": "markdown",
   "metadata": {},
   "source": [
    "# word frequency of hashtags"
   ]
  },
  {
   "cell_type": "code",
   "execution_count": 65,
   "metadata": {
    "collapsed": true
   },
   "outputs": [],
   "source": [
    "tag_df = clean_df.loc[clean_df.apply(lambda row: row['tags'] is not float and len(row['tags'])>0, axis=1)]"
   ]
  },
  {
   "cell_type": "code",
   "execution_count": 145,
   "metadata": {},
   "outputs": [
    {
     "data": {
      "text/plain": [
       "32890"
      ]
     },
     "execution_count": 145,
     "metadata": {},
     "output_type": "execute_result"
    }
   ],
   "source": [
    "len(tag_df)"
   ]
  },
  {
   "cell_type": "code",
   "execution_count": 67,
   "metadata": {},
   "outputs": [
    {
     "data": {
      "text/html": [
       "<div>\n",
       "<style>\n",
       "    .dataframe thead tr:only-child th {\n",
       "        text-align: right;\n",
       "    }\n",
       "\n",
       "    .dataframe thead th {\n",
       "        text-align: left;\n",
       "    }\n",
       "\n",
       "    .dataframe tbody tr th {\n",
       "        vertical-align: top;\n",
       "    }\n",
       "</style>\n",
       "<table border=\"1\" class=\"dataframe\">\n",
       "  <thead>\n",
       "    <tr style=\"text-align: right;\">\n",
       "      <th></th>\n",
       "      <th>id</th>\n",
       "      <th>likes</th>\n",
       "      <th>comment</th>\n",
       "      <th>text</th>\n",
       "      <th>owner</th>\n",
       "      <th>tags</th>\n",
       "      <th>time</th>\n",
       "      <th>clean_text</th>\n",
       "      <th>lang</th>\n",
       "      <th>trans</th>\n",
       "    </tr>\n",
       "  </thead>\n",
       "  <tbody>\n",
       "    <tr>\n",
       "      <th>0</th>\n",
       "      <td>1768635695000550746</td>\n",
       "      <td>31</td>\n",
       "      <td>2</td>\n",
       "      <td>Breathtaking view #HuangShan #cablecar</td>\n",
       "      <td>49135036</td>\n",
       "      <td>[HuangShan, cablecar]</td>\n",
       "      <td>2018-04-30 11:10:26</td>\n",
       "      <td>breathtaking view huangshan cablecar</td>\n",
       "      <td>en</td>\n",
       "      <td>breathtaking view huangshan cable car</td>\n",
       "    </tr>\n",
       "    <tr>\n",
       "      <th>2</th>\n",
       "      <td>1751782291691387418</td>\n",
       "      <td>902</td>\n",
       "      <td>333</td>\n",
       "      <td>徽州古城 Wandering around an ancient Chinese garde...</td>\n",
       "      <td>5064849724</td>\n",
       "      <td>[girlsthatwander, shotzdelight, asia_vacations...</td>\n",
       "      <td>2018-04-07 05:05:44</td>\n",
       "      <td>徽州古城 wandering around an ancient chinese garde...</td>\n",
       "      <td>en</td>\n",
       "      <td>徽州古城 wandering around an ancient chinese garde...</td>\n",
       "    </tr>\n",
       "    <tr>\n",
       "      <th>3</th>\n",
       "      <td>1763494337332593967</td>\n",
       "      <td>35</td>\n",
       "      <td>5</td>\n",
       "      <td>#huangshan #mountains #hiking #free #fresh</td>\n",
       "      <td>314391040</td>\n",
       "      <td>[free, mountains, hiking, huangshan, fresh]</td>\n",
       "      <td>2018-04-23 08:55:28</td>\n",
       "      <td>huangshan mountains hiking free fresh</td>\n",
       "      <td>en</td>\n",
       "      <td>huangshan mountains hiking free fresh</td>\n",
       "    </tr>\n",
       "    <tr>\n",
       "      <th>4</th>\n",
       "      <td>1779157559519623087</td>\n",
       "      <td>124</td>\n",
       "      <td>15</td>\n",
       "      <td>One of my favorite shots of Huangshan! The tre...</td>\n",
       "      <td>1525150815</td>\n",
       "      <td>[forgetyourownpath, chinahighlights, sonyalpha...</td>\n",
       "      <td>2018-05-14 23:35:30</td>\n",
       "      <td>one of my favorite shots of huangshan the tree...</td>\n",
       "      <td>en</td>\n",
       "      <td>one of my favorite shots of huangshan the tree...</td>\n",
       "    </tr>\n",
       "    <tr>\n",
       "      <th>5</th>\n",
       "      <td>1669147591197484148</td>\n",
       "      <td>1084</td>\n",
       "      <td>34</td>\n",
       "      <td>And another one of those favorite shots of the...</td>\n",
       "      <td>173683326</td>\n",
       "      <td>[thecreative, instachina, loves_china, travelo...</td>\n",
       "      <td>2017-12-14 04:45:20</td>\n",
       "      <td>and another one of those favorite shots of the...</td>\n",
       "      <td>en</td>\n",
       "      <td>and another one of those favorite shots of the...</td>\n",
       "    </tr>\n",
       "  </tbody>\n",
       "</table>\n",
       "</div>"
      ],
      "text/plain": [
       "                    id  likes  comment  \\\n",
       "0  1768635695000550746     31        2   \n",
       "2  1751782291691387418    902      333   \n",
       "3  1763494337332593967     35        5   \n",
       "4  1779157559519623087    124       15   \n",
       "5  1669147591197484148   1084       34   \n",
       "\n",
       "                                                text       owner  \\\n",
       "0             Breathtaking view #HuangShan #cablecar    49135036   \n",
       "2  徽州古城 Wandering around an ancient Chinese garde...  5064849724   \n",
       "3         #huangshan #mountains #hiking #free #fresh   314391040   \n",
       "4  One of my favorite shots of Huangshan! The tre...  1525150815   \n",
       "5  And another one of those favorite shots of the...   173683326   \n",
       "\n",
       "                                                tags                time  \\\n",
       "0                              [HuangShan, cablecar] 2018-04-30 11:10:26   \n",
       "2  [girlsthatwander, shotzdelight, asia_vacations... 2018-04-07 05:05:44   \n",
       "3        [free, mountains, hiking, huangshan, fresh] 2018-04-23 08:55:28   \n",
       "4  [forgetyourownpath, chinahighlights, sonyalpha... 2018-05-14 23:35:30   \n",
       "5  [thecreative, instachina, loves_china, travelo... 2017-12-14 04:45:20   \n",
       "\n",
       "                                          clean_text lang  \\\n",
       "0               breathtaking view huangshan cablecar   en   \n",
       "2  徽州古城 wandering around an ancient chinese garde...   en   \n",
       "3              huangshan mountains hiking free fresh   en   \n",
       "4  one of my favorite shots of huangshan the tree...   en   \n",
       "5  and another one of those favorite shots of the...   en   \n",
       "\n",
       "                                               trans  \n",
       "0              breathtaking view huangshan cable car  \n",
       "2  徽州古城 wandering around an ancient chinese garde...  \n",
       "3              huangshan mountains hiking free fresh  \n",
       "4  one of my favorite shots of huangshan the tree...  \n",
       "5  and another one of those favorite shots of the...  "
      ]
     },
     "execution_count": 67,
     "metadata": {},
     "output_type": "execute_result"
    }
   ],
   "source": [
    "tag_df.head()"
   ]
  },
  {
   "cell_type": "code",
   "execution_count": 81,
   "metadata": {
    "collapsed": true
   },
   "outputs": [],
   "source": [
    "# translate and collect tags\n",
    "def translate_tag(row):\n",
    "    translator = Translator()\n",
    "    try:\n",
    "        translation = translator.translate(row['tags'])\n",
    "        tag = \",\".join([x.text.lower() for x in translation if x.text.lower() not in ['huangshan']])\n",
    "        row['tag_trans'] = tag\n",
    "        return row\n",
    "    except:\n",
    "        row['tag_trans'] = ''\n",
    "        return row"
   ]
  },
  {
   "cell_type": "code",
   "execution_count": 82,
   "metadata": {},
   "outputs": [
    {
     "name": "stdout",
     "output_type": "stream",
     "text": [
      "Wall time: 5h 22s\n"
     ]
    }
   ],
   "source": [
    "%time tag_df= tag_df.apply(translate_tag, axis=1)"
   ]
  },
  {
   "cell_type": "code",
   "execution_count": 84,
   "metadata": {
    "collapsed": true
   },
   "outputs": [],
   "source": [
    "tag_df.to_csv('tag.csv', index=False)"
   ]
  },
  {
   "cell_type": "code",
   "execution_count": 131,
   "metadata": {
    "collapsed": true
   },
   "outputs": [],
   "source": [
    "# tokenize the tag \n",
    "porter = RegexpStemmer('s$', min=4)\n",
    "def tag_token(text):\n",
    "    words = map(lambda word: word.lower(), word_tokenize(text))\n",
    "    words = [porter.stem(word) for word in words if word not in ['sulfuric','acid']] \n",
    "    p = re.compile('[a-zA-Z]+')   #make sure each word are meaningful\n",
    "    cleaned_words = list(filter(lambda token: p.match(token), words));\n",
    "    return \" \".join(cleaned_words)    "
   ]
  },
  {
   "cell_type": "code",
   "execution_count": 132,
   "metadata": {
    "collapsed": true
   },
   "outputs": [],
   "source": [
    "tag_df['tag_clean'] = tag_df['tag_trans'].apply(tag_token)"
   ]
  },
  {
   "cell_type": "code",
   "execution_count": 133,
   "metadata": {
    "collapsed": true
   },
   "outputs": [],
   "source": [
    "tag_df['tag_clean'].to_csv('rule.csv', index=False)   # rule csv"
   ]
  },
  {
   "cell_type": "code",
   "execution_count": 120,
   "metadata": {
    "collapsed": true
   },
   "outputs": [],
   "source": [
    "tag_df['trans'].to_csv('senti.csv', index=False)   #sentiment csv"
   ]
  },
  {
   "cell_type": "code",
   "execution_count": 144,
   "metadata": {},
   "outputs": [
    {
     "data": {
      "text/plain": [
       "32890"
      ]
     },
     "execution_count": 144,
     "metadata": {},
     "output_type": "execute_result"
    }
   ],
   "source": [
    "len(tag_df)"
   ]
  },
  {
   "cell_type": "code",
   "execution_count": 87,
   "metadata": {
    "collapsed": true
   },
   "outputs": [],
   "source": [
    "tag_df = tag_df[tag_df['tag_trans']!='']"
   ]
  },
  {
   "cell_type": "code",
   "execution_count": 88,
   "metadata": {},
   "outputs": [
    {
     "data": {
      "text/plain": [
       "32890"
      ]
     },
     "execution_count": 88,
     "metadata": {},
     "output_type": "execute_result"
    }
   ],
   "source": [
    "len(tag_df)"
   ]
  },
  {
   "cell_type": "code",
   "execution_count": 135,
   "metadata": {
    "collapsed": true
   },
   "outputs": [],
   "source": [
    "# get the list of hashtags\n",
    "stop = set(stopwords.words('english'))\n",
    "stop.update(['.', ',', '\"', \"'\", '?', '!', ':', ';', '(', ')', '[', ']', '{', '}', '@', '#', '/', '://', '_', 'co'])\n",
    "hashtags = []\n",
    "porter = RegexpStemmer('s$', min=4)\n",
    "for i in tag_df.index:\n",
    "    words = tag_df['tag_trans'][i].split(',')\n",
    "    for word in words:\n",
    "        hashtags.append(porter.stem(word))"
   ]
  },
  {
   "cell_type": "code",
   "execution_count": 136,
   "metadata": {},
   "outputs": [
    {
     "data": {
      "text/plain": [
       "302091"
      ]
     },
     "execution_count": 136,
     "metadata": {},
     "output_type": "execute_result"
    }
   ],
   "source": [
    "len(hashtags)"
   ]
  },
  {
   "cell_type": "code",
   "execution_count": 113,
   "metadata": {
    "collapsed": true
   },
   "outputs": [],
   "source": [
    "hashtags = [x for x in hashtags if x != 'sulfuric acid']"
   ]
  },
  {
   "cell_type": "code",
   "execution_count": 114,
   "metadata": {},
   "outputs": [
    {
     "data": {
      "text/plain": [
       "301427"
      ]
     },
     "execution_count": 114,
     "metadata": {},
     "output_type": "execute_result"
    }
   ],
   "source": [
    "len(hashtags)"
   ]
  },
  {
   "cell_type": "code",
   "execution_count": 115,
   "metadata": {},
   "outputs": [
    {
     "name": "stdout",
     "output_type": "stream",
     "text": [
      "[('china', 24760), ('mountain', 10197), ('travel', 8932), ('anhui', 8700), ('yellow mountain', 5250), ('nature', 4703), ('hiking', 3342), ('landscape', 2952), ('yellowmountain', 2271), ('wanderlust', 1950), ('beautiful', 1840), ('cloud', 1817), ('travelgram', 1697), ('asia', 1595), ('sunrise', 1577), ('trip', 1562), ('instatravel', 1553), ('huangshan mountain', 1545), ('photography', 1541), ('view', 1466), ('adventure', 1418), ('tree', 1394), ('travel photography', 1362), ('instagood', 1306), ('holiday', 1273), ('shanghai', 1194), ('sunset', 1130), ('hongcun', 1127), ('traveling', 1123), ('photooftheday', 1059), ('sky', 1036), ('nofilter', 1022), ('explore', 959), ('chinese', 938), ('scenery', 882), ('fog', 880), ('love', 859), ('travelling', 838), ('climbing', 838), ('amazing', 824), ('hike', 817), ('winter', 813), ('vacation', 794), ('photo', 793), ('tunxi', 784), ('vscocam', 744), ('instadaily', 728), ('travelchina', 709), ('picoftheday', 709), ('tourism', 698), ('snow', 693), ('village', 653), ('pine', 650), ('architecture', 650), ('unesco', 621), ('vsco', 603), ('traveler', 595), ('chinatravel', 577), ('nature photography', 577), ('rock', 572), ('art', 570), ('landscape photography', 555), ('backpacking', 553), ('outdoor', 541), ('traveller', 539), ('beautifuldestination', 537), ('chinatrip', 535), ('explorechina', 535), ('journey', 524), ('life', 509), ('naturelover', 501), ('morning', 491), ('yellow', 483), ('trekking', 481), ('beijing', 477), ('beauty', 461), ('peak', 455), ('throwback', 451), ('instagram', 449), ('green', 446), ('world heritage', 443), ('backpacker', 441), ('mount huangshan', 428), ('igtravel', 428), ('forest', 426), ('sun', 423), ('summer', 407), ('huizhou', 405), ('the mountain', 398), ('travelblogger', 396), ('traveltheworld', 394), ('photographer', 390), ('friend', 383), ('nikon', 373), ('tea', 364), ('tour', 363), ('hangzhou', 359), ('happy', 355), ('tbt', 354), ('world', 353)]\n"
     ]
    }
   ],
   "source": [
    "hashfreq = nltk.FreqDist(hashtags)\n",
    "mostcommon = hashfreq.most_common(100)\n",
    "print(mostcommon)"
   ]
  },
  {
   "cell_type": "code",
   "execution_count": 139,
   "metadata": {},
   "outputs": [
    {
     "data": {
      "text/plain": [
       "142468"
      ]
     },
     "execution_count": 139,
     "metadata": {},
     "output_type": "execute_result"
    }
   ],
   "source": [
    "s = 0\n",
    "for i in mostcommon:\n",
    "    s += i[1]\n",
    "s"
   ]
  },
  {
   "cell_type": "code",
   "execution_count": 143,
   "metadata": {},
   "outputs": [
    {
     "name": "stdout",
     "output_type": "stream",
     "text": [
      "china 24760\n",
      "mountain 10197\n",
      "travel 8932\n",
      "anhui 8700\n",
      "yellow mountain 5250\n",
      "nature 4703\n",
      "hiking 3342\n",
      "landscape 2952\n",
      "yellowmountain 2271\n",
      "wanderlust 1950\n",
      "beautiful 1840\n",
      "cloud 1817\n",
      "travelgram 1697\n",
      "asia 1595\n",
      "sunrise 1577\n",
      "trip 1562\n",
      "instatravel 1553\n",
      "huangshan mountain 1545\n",
      "photography 1541\n",
      "view 1466\n",
      "adventure 1418\n",
      "tree 1394\n",
      "travel photography 1362\n",
      "instagood 1306\n",
      "holiday 1273\n",
      "shanghai 1194\n",
      "sunset 1130\n",
      "hongcun 1127\n",
      "traveling 1123\n",
      "photooftheday 1059\n",
      "sky 1036\n",
      "nofilter 1022\n",
      "explore 959\n",
      "chinese 938\n",
      "scenery 882\n",
      "fog 880\n",
      "love 859\n",
      "travelling 838\n",
      "climbing 838\n",
      "amazing 824\n",
      "hike 817\n",
      "winter 813\n",
      "vacation 794\n",
      "photo 793\n",
      "tunxi 784\n",
      "vscocam 744\n",
      "instadaily 728\n",
      "travelchina 709\n",
      "picoftheday 709\n",
      "tourism 698\n"
     ]
    }
   ],
   "source": [
    "for i in mostcommon[:50]:\n",
    "    print(i[0],i[1])"
   ]
  },
  {
   "cell_type": "code",
   "execution_count": 140,
   "metadata": {},
   "outputs": [
    {
     "data": {
      "text/plain": [
       "0.47264511805511783"
      ]
     },
     "execution_count": 140,
     "metadata": {},
     "output_type": "execute_result"
    }
   ],
   "source": [
    "142468/301427"
   ]
  },
  {
   "cell_type": "code",
   "execution_count": 73,
   "metadata": {},
   "outputs": [
    {
     "name": "stdout",
     "output_type": "stream",
     "text": [
      "[('china', 20847), ('travel', 11051), ('mountain', 9675), ('yellowmountain', 7422), ('anhui', 7156), ('黄山', 4775), ('natur', 4580), ('hike', 4022), ('landscap', 2667), ('beauti', 2179), ('wanderlust', 1942), ('中国', 1771), ('instatravel', 1763), ('travelgram', 1697), ('cloud', 1664), ('huangshanmountain', 1546), ('asia', 1498), ('photographi', 1487), ('trip', 1456), ('安徽', 1435), ('view', 1434), ('sunris', 1398), ('adventur', 1390), ('travelphotographi', 1350), ('tree', 1320), ('instagood', 1306), ('explor', 1185), ('holiday', 1119), ('photooftheday', 1059), ('nofilt', 1051), ('backpack', 1043), ('shanghai', 1037), ('sunset', 1027), ('黃山', 1025), ('sky', 961), ('hongcun', 898), ('love', 892), ('amaz', 829), ('chines', 828), ('climb', 806), ('sceneri', 798), ('vacat', 780), ('fog', 755), ('vscocam', 741), ('instadaili', 728), ('travelchina', 709), ('picoftheday', 709), ('winter', 699), ('photo', 694), ('황산', 663), ('китай', 649), ('villag', 640), ('architectur', 633), ('snow', 629), ('tunxi', 628), ('vsco', 603), ('unesco', 594), ('chinatravel', 583), ('naturephotographi', 577), ('pine', 569), ('trek', 558), ('landscapephotographi', 548), ('beautifuldestin', 537), ('rock', 537), ('chinatrip', 535), ('explorechina', 535), ('outdoor', 535), ('naturelov', 527), ('photograph', 511), ('instagram', 509), ('life', 501), ('art', 485), ('morn', 484), ('хуаншань', 456), ('중국', 453), ('throwback', 451), ('yellow', 443), ('peak', 434), ('igtravel', 434), ('green', 430), ('mounthuangshan', 425), ('sun', 419), ('happi', 418), ('beij', 398), ('горы', 398), ('forest', 397), ('travelblogg', 396), ('traveltheworld', 394), ('宏村', 382), ('summer', 382), ('nikon', 367), ('friend', 362), ('tbt', 354), ('mychinagram', 353), ('latergram', 352), ('tourism', 343), ('world', 339), ('tour', 338), ('travelblog', 334), ('ancient', 333)]\n"
     ]
    }
   ],
   "source": [
    "hashfreq = nltk.FreqDist(hashtags)\n",
    "mostcommon = hashfreq.most_common(100)\n",
    "print(mostcommon)"
   ]
  },
  {
   "cell_type": "code",
   "execution_count": 118,
   "metadata": {},
   "outputs": [
    {
     "data": {
      "text/plain": [
       "<matplotlib.image.AxesImage at 0x34f5ae10>"
      ]
     },
     "execution_count": 118,
     "metadata": {},
     "output_type": "execute_result"
    },
    {
     "data": {
      "image/png": "[encoded data removed]",
      "text/plain": [
       "<matplotlib.figure.Figure at 0x392bd2e8>"
      ]
     },
     "metadata": {},
     "output_type": "display_data"
    }
   ],
   "source": [
    "%matplotlib inline\n",
    "\n",
    "wc = WordCloud(background_color=\"white\", max_words=1000)\n",
    "wc.generate(\" \".join(hashtags))\n",
    "plt.imshow(wc)"
   ]
  },
  {
   "cell_type": "markdown",
   "metadata": {},
   "source": [
    "# sentiment analysis"
   ]
  },
  {
   "cell_type": "code",
   "execution_count": 146,
   "metadata": {},
   "outputs": [
    {
     "data": {
      "text/html": [
       "<div>\n",
       "<style>\n",
       "    .dataframe thead tr:only-child th {\n",
       "        text-align: right;\n",
       "    }\n",
       "\n",
       "    .dataframe thead th {\n",
       "        text-align: left;\n",
       "    }\n",
       "\n",
       "    .dataframe tbody tr th {\n",
       "        vertical-align: top;\n",
       "    }\n",
       "</style>\n",
       "<table border=\"1\" class=\"dataframe\">\n",
       "  <thead>\n",
       "    <tr style=\"text-align: right;\">\n",
       "      <th></th>\n",
       "      <th>id</th>\n",
       "      <th>likes</th>\n",
       "      <th>comment</th>\n",
       "      <th>text</th>\n",
       "      <th>owner</th>\n",
       "      <th>tags</th>\n",
       "      <th>time</th>\n",
       "      <th>clean_text</th>\n",
       "      <th>lang</th>\n",
       "      <th>trans</th>\n",
       "    </tr>\n",
       "  </thead>\n",
       "  <tbody>\n",
       "    <tr>\n",
       "      <th>0</th>\n",
       "      <td>1768635695000550746</td>\n",
       "      <td>31</td>\n",
       "      <td>2</td>\n",
       "      <td>Breathtaking view #HuangShan #cablecar</td>\n",
       "      <td>49135036</td>\n",
       "      <td>[HuangShan, cablecar]</td>\n",
       "      <td>2018-04-30 11:10:26</td>\n",
       "      <td>breathtaking view huangshan cablecar</td>\n",
       "      <td>en</td>\n",
       "      <td>breathtaking view huangshan cable car</td>\n",
       "    </tr>\n",
       "    <tr>\n",
       "      <th>1</th>\n",
       "      <td>1779027164797484376</td>\n",
       "      <td>105</td>\n",
       "      <td>4</td>\n",
       "      <td>I’m grateful for the trees and mountains that ...</td>\n",
       "      <td>184152999</td>\n",
       "      <td>[]</td>\n",
       "      <td>2018-05-14 19:16:26</td>\n",
       "      <td>i m grateful for the trees and mountains that ...</td>\n",
       "      <td>en</td>\n",
       "      <td>i m grateful for the trees and mountains that ...</td>\n",
       "    </tr>\n",
       "    <tr>\n",
       "      <th>2</th>\n",
       "      <td>1751782291691387418</td>\n",
       "      <td>902</td>\n",
       "      <td>333</td>\n",
       "      <td>徽州古城 Wandering around an ancient Chinese garde...</td>\n",
       "      <td>5064849724</td>\n",
       "      <td>[girlsthatwander, shotzdelight, asia_vacations...</td>\n",
       "      <td>2018-04-07 05:05:44</td>\n",
       "      <td>徽州古城 wandering around an ancient chinese garde...</td>\n",
       "      <td>en</td>\n",
       "      <td>徽州古城 wandering around an ancient chinese garde...</td>\n",
       "    </tr>\n",
       "    <tr>\n",
       "      <th>3</th>\n",
       "      <td>1763494337332593967</td>\n",
       "      <td>35</td>\n",
       "      <td>5</td>\n",
       "      <td>#huangshan #mountains #hiking #free #fresh</td>\n",
       "      <td>314391040</td>\n",
       "      <td>[free, mountains, hiking, huangshan, fresh]</td>\n",
       "      <td>2018-04-23 08:55:28</td>\n",
       "      <td>huangshan mountains hiking free fresh</td>\n",
       "      <td>en</td>\n",
       "      <td>huangshan mountains hiking free fresh</td>\n",
       "    </tr>\n",
       "    <tr>\n",
       "      <th>4</th>\n",
       "      <td>1779157559519623087</td>\n",
       "      <td>124</td>\n",
       "      <td>15</td>\n",
       "      <td>One of my favorite shots of Huangshan! The tre...</td>\n",
       "      <td>1525150815</td>\n",
       "      <td>[forgetyourownpath, chinahighlights, sonyalpha...</td>\n",
       "      <td>2018-05-14 23:35:30</td>\n",
       "      <td>one of my favorite shots of huangshan the tree...</td>\n",
       "      <td>en</td>\n",
       "      <td>one of my favorite shots of huangshan the tree...</td>\n",
       "    </tr>\n",
       "  </tbody>\n",
       "</table>\n",
       "</div>"
      ],
      "text/plain": [
       "                    id  likes  comment  \\\n",
       "0  1768635695000550746     31        2   \n",
       "1  1779027164797484376    105        4   \n",
       "2  1751782291691387418    902      333   \n",
       "3  1763494337332593967     35        5   \n",
       "4  1779157559519623087    124       15   \n",
       "\n",
       "                                                text       owner  \\\n",
       "0             Breathtaking view #HuangShan #cablecar    49135036   \n",
       "1  I’m grateful for the trees and mountains that ...   184152999   \n",
       "2  徽州古城 Wandering around an ancient Chinese garde...  5064849724   \n",
       "3         #huangshan #mountains #hiking #free #fresh   314391040   \n",
       "4  One of my favorite shots of Huangshan! The tre...  1525150815   \n",
       "\n",
       "                                                tags                time  \\\n",
       "0                              [HuangShan, cablecar] 2018-04-30 11:10:26   \n",
       "1                                                 [] 2018-05-14 19:16:26   \n",
       "2  [girlsthatwander, shotzdelight, asia_vacations... 2018-04-07 05:05:44   \n",
       "3        [free, mountains, hiking, huangshan, fresh] 2018-04-23 08:55:28   \n",
       "4  [forgetyourownpath, chinahighlights, sonyalpha... 2018-05-14 23:35:30   \n",
       "\n",
       "                                          clean_text lang  \\\n",
       "0               breathtaking view huangshan cablecar   en   \n",
       "1  i m grateful for the trees and mountains that ...   en   \n",
       "2  徽州古城 wandering around an ancient chinese garde...   en   \n",
       "3              huangshan mountains hiking free fresh   en   \n",
       "4  one of my favorite shots of huangshan the tree...   en   \n",
       "\n",
       "                                               trans  \n",
       "0              breathtaking view huangshan cable car  \n",
       "1  i m grateful for the trees and mountains that ...  \n",
       "2  徽州古城 wandering around an ancient chinese garde...  \n",
       "3              huangshan mountains hiking free fresh  \n",
       "4  one of my favorite shots of huangshan the tree...  "
      ]
     },
     "execution_count": 146,
     "metadata": {},
     "output_type": "execute_result"
    }
   ],
   "source": [
    "clean_df.head()"
   ]
  },
  {
   "cell_type": "code",
   "execution_count": 147,
   "metadata": {},
   "outputs": [
    {
     "data": {
      "text/plain": [
       "36790"
      ]
     },
     "execution_count": 147,
     "metadata": {},
     "output_type": "execute_result"
    }
   ],
   "source": [
    "len(clean_df)"
   ]
  },
  {
   "cell_type": "code",
   "execution_count": 148,
   "metadata": {
    "collapsed": true
   },
   "outputs": [],
   "source": [
    "senti_df = clean_df[clean_df['trans']!='']"
   ]
  },
  {
   "cell_type": "code",
   "execution_count": 149,
   "metadata": {},
   "outputs": [
    {
     "data": {
      "text/plain": [
       "36790"
      ]
     },
     "execution_count": 149,
     "metadata": {},
     "output_type": "execute_result"
    }
   ],
   "source": [
    "len(senti_df)"
   ]
  },
  {
   "cell_type": "code",
   "execution_count": 151,
   "metadata": {
    "collapsed": true
   },
   "outputs": [],
   "source": [
    "# stop words\n",
    "stop_words = stopwords.words('english')\n",
    "\n",
    "def clean(text):\n",
    "    words = map(lambda word: word.lower(), word_tokenize(text))\n",
    "    words = [word for word in words if word not in stop_words] \n",
    "    p = re.compile('[a-zA-Z]+')   #make sure each word are meaningful\n",
    "    cleaned_words = list(filter(lambda token: p.match(token), words));\n",
    "    return \" \".join(cleaned_words)"
   ]
  },
  {
   "cell_type": "code",
   "execution_count": 152,
   "metadata": {
    "collapsed": true
   },
   "outputs": [],
   "source": [
    "clean_df['clean_trans'] = clean_df['trans'].apply(clean)"
   ]
  },
  {
   "cell_type": "code",
   "execution_count": 153,
   "metadata": {
    "collapsed": true
   },
   "outputs": [],
   "source": [
    "text_df = clean_df.loc[clean_df['clean_trans'] != '']"
   ]
  },
  {
   "cell_type": "code",
   "execution_count": 154,
   "metadata": {},
   "outputs": [
    {
     "data": {
      "text/plain": [
       "36674"
      ]
     },
     "execution_count": 154,
     "metadata": {},
     "output_type": "execute_result"
    }
   ],
   "source": [
    "len(text_df)"
   ]
  },
  {
   "cell_type": "code",
   "execution_count": 158,
   "metadata": {
    "collapsed": true
   },
   "outputs": [],
   "source": [
    "text_df[['time','clean_trans']].to_csv('senti.csv', encoding='utf-8-sig', index=False)"
   ]
  },
  {
   "cell_type": "code",
   "execution_count": null,
   "metadata": {
    "collapsed": true
   },
   "outputs": [],
   "source": [
    "# load sentiment analysis result"
   ]
  },
  {
   "cell_type": "code",
   "execution_count": 196,
   "metadata": {
    "collapsed": true
   },
   "outputs": [],
   "source": [
    "senti_df = pd.read_csv('senti+results.csv',parse_dates=['time'])"
   ]
  },
  {
   "cell_type": "code",
   "execution_count": 197,
   "metadata": {},
   "outputs": [
    {
     "data": {
      "text/html": [
       "<div>\n",
       "<style>\n",
       "    .dataframe thead tr:only-child th {\n",
       "        text-align: right;\n",
       "    }\n",
       "\n",
       "    .dataframe thead th {\n",
       "        text-align: left;\n",
       "    }\n",
       "\n",
       "    .dataframe tbody tr th {\n",
       "        vertical-align: top;\n",
       "    }\n",
       "</style>\n",
       "<table border=\"1\" class=\"dataframe\">\n",
       "  <thead>\n",
       "    <tr style=\"text-align: right;\">\n",
       "      <th></th>\n",
       "      <th>time</th>\n",
       "      <th>clean_trans</th>\n",
       "      <th>Translation</th>\n",
       "      <th>Positive</th>\n",
       "      <th>Negative</th>\n",
       "      <th>EmotionRationale</th>\n",
       "    </tr>\n",
       "  </thead>\n",
       "  <tbody>\n",
       "    <tr>\n",
       "      <th>0</th>\n",
       "      <td>2018-04-30 11:10:00</td>\n",
       "      <td>breathtaking view huangshan cable car</td>\n",
       "      <td>breathtaking view huangshan cable car</td>\n",
       "      <td>1</td>\n",
       "      <td>-1</td>\n",
       "      <td>breathtaking[0] view[0] huangshan[0] cable[0]...</td>\n",
       "    </tr>\n",
       "    <tr>\n",
       "      <th>1</th>\n",
       "      <td>2018-05-14 19:16:00</td>\n",
       "      <td>grateful trees mountains inspire me???? truly ...</td>\n",
       "      <td>grateful trees mountains inspire me?&lt;br&gt; truly...</td>\n",
       "      <td>3</td>\n",
       "      <td>-1</td>\n",
       "      <td>grateful[1] trees[0] mountains[0] inspire[2] ...</td>\n",
       "    </tr>\n",
       "    <tr>\n",
       "      <th>2</th>\n",
       "      <td>2018-04-07 05:05:00</td>\n",
       "      <td>wandering around ancient chinese garden intere...</td>\n",
       "      <td>wandering around ancient chinese garden intere...</td>\n",
       "      <td>3</td>\n",
       "      <td>-1</td>\n",
       "      <td>wandering[0] around[0] ancient[0] chinese[0] ...</td>\n",
       "    </tr>\n",
       "    <tr>\n",
       "      <th>3</th>\n",
       "      <td>2018-04-23 08:55:00</td>\n",
       "      <td>huangshan mountains hiking free fresh</td>\n",
       "      <td>huangshan mountains hiking free fresh</td>\n",
       "      <td>1</td>\n",
       "      <td>-1</td>\n",
       "      <td>huangshan[0] mountains[0] hiking[0] free[0] f...</td>\n",
       "    </tr>\n",
       "    <tr>\n",
       "      <th>4</th>\n",
       "      <td>2018-05-14 23:35:00</td>\n",
       "      <td>one favorite shots huangshan trees seem care p...</td>\n",
       "      <td>one favorite shots huangshan trees seem care p...</td>\n",
       "      <td>3</td>\n",
       "      <td>-2</td>\n",
       "      <td>one[0] favorite[1] shots[0] huangshan[0] tree...</td>\n",
       "    </tr>\n",
       "  </tbody>\n",
       "</table>\n",
       "</div>"
      ],
      "text/plain": [
       "                 time                                        clean_trans  \\\n",
       "0 2018-04-30 11:10:00              breathtaking view huangshan cable car   \n",
       "1 2018-05-14 19:16:00  grateful trees mountains inspire me???? truly ...   \n",
       "2 2018-04-07 05:05:00  wandering around ancient chinese garden intere...   \n",
       "3 2018-04-23 08:55:00              huangshan mountains hiking free fresh   \n",
       "4 2018-05-14 23:35:00  one favorite shots huangshan trees seem care p...   \n",
       "\n",
       "                                         Translation  Positive  Negative  \\\n",
       "0              breathtaking view huangshan cable car         1        -1   \n",
       "1  grateful trees mountains inspire me?<br> truly...         3        -1   \n",
       "2  wandering around ancient chinese garden intere...         3        -1   \n",
       "3              huangshan mountains hiking free fresh         1        -1   \n",
       "4  one favorite shots huangshan trees seem care p...         3        -2   \n",
       "\n",
       "                                    EmotionRationale  \n",
       "0   breathtaking[0] view[0] huangshan[0] cable[0]...  \n",
       "1   grateful[1] trees[0] mountains[0] inspire[2] ...  \n",
       "2   wandering[0] around[0] ancient[0] chinese[0] ...  \n",
       "3   huangshan[0] mountains[0] hiking[0] free[0] f...  \n",
       "4   one[0] favorite[1] shots[0] huangshan[0] tree...  "
      ]
     },
     "execution_count": 197,
     "metadata": {},
     "output_type": "execute_result"
    }
   ],
   "source": [
    "senti_df.head()"
   ]
  },
  {
   "cell_type": "code",
   "execution_count": 198,
   "metadata": {
    "collapsed": true
   },
   "outputs": [],
   "source": [
    "senti_df['Positive'] = senti_df['Positive'].apply(lambda x:x-1)\n",
    "senti_df['Negative'] = senti_df['Negative'].apply(lambda x:x+1)"
   ]
  },
  {
   "cell_type": "code",
   "execution_count": 199,
   "metadata": {},
   "outputs": [
    {
     "data": {
      "text/html": [
       "<div>\n",
       "<style>\n",
       "    .dataframe thead tr:only-child th {\n",
       "        text-align: right;\n",
       "    }\n",
       "\n",
       "    .dataframe thead th {\n",
       "        text-align: left;\n",
       "    }\n",
       "\n",
       "    .dataframe tbody tr th {\n",
       "        vertical-align: top;\n",
       "    }\n",
       "</style>\n",
       "<table border=\"1\" class=\"dataframe\">\n",
       "  <thead>\n",
       "    <tr style=\"text-align: right;\">\n",
       "      <th></th>\n",
       "      <th>time</th>\n",
       "      <th>clean_trans</th>\n",
       "      <th>Translation</th>\n",
       "      <th>Positive</th>\n",
       "      <th>Negative</th>\n",
       "      <th>EmotionRationale</th>\n",
       "    </tr>\n",
       "  </thead>\n",
       "  <tbody>\n",
       "    <tr>\n",
       "      <th>0</th>\n",
       "      <td>2018-04-30 11:10:00</td>\n",
       "      <td>breathtaking view huangshan cable car</td>\n",
       "      <td>breathtaking view huangshan cable car</td>\n",
       "      <td>0</td>\n",
       "      <td>0</td>\n",
       "      <td>breathtaking[0] view[0] huangshan[0] cable[0]...</td>\n",
       "    </tr>\n",
       "    <tr>\n",
       "      <th>1</th>\n",
       "      <td>2018-05-14 19:16:00</td>\n",
       "      <td>grateful trees mountains inspire me???? truly ...</td>\n",
       "      <td>grateful trees mountains inspire me?&lt;br&gt; truly...</td>\n",
       "      <td>2</td>\n",
       "      <td>0</td>\n",
       "      <td>grateful[1] trees[0] mountains[0] inspire[2] ...</td>\n",
       "    </tr>\n",
       "    <tr>\n",
       "      <th>2</th>\n",
       "      <td>2018-04-07 05:05:00</td>\n",
       "      <td>wandering around ancient chinese garden intere...</td>\n",
       "      <td>wandering around ancient chinese garden intere...</td>\n",
       "      <td>2</td>\n",
       "      <td>0</td>\n",
       "      <td>wandering[0] around[0] ancient[0] chinese[0] ...</td>\n",
       "    </tr>\n",
       "    <tr>\n",
       "      <th>3</th>\n",
       "      <td>2018-04-23 08:55:00</td>\n",
       "      <td>huangshan mountains hiking free fresh</td>\n",
       "      <td>huangshan mountains hiking free fresh</td>\n",
       "      <td>0</td>\n",
       "      <td>0</td>\n",
       "      <td>huangshan[0] mountains[0] hiking[0] free[0] f...</td>\n",
       "    </tr>\n",
       "    <tr>\n",
       "      <th>4</th>\n",
       "      <td>2018-05-14 23:35:00</td>\n",
       "      <td>one favorite shots huangshan trees seem care p...</td>\n",
       "      <td>one favorite shots huangshan trees seem care p...</td>\n",
       "      <td>2</td>\n",
       "      <td>-1</td>\n",
       "      <td>one[0] favorite[1] shots[0] huangshan[0] tree...</td>\n",
       "    </tr>\n",
       "  </tbody>\n",
       "</table>\n",
       "</div>"
      ],
      "text/plain": [
       "                 time                                        clean_trans  \\\n",
       "0 2018-04-30 11:10:00              breathtaking view huangshan cable car   \n",
       "1 2018-05-14 19:16:00  grateful trees mountains inspire me???? truly ...   \n",
       "2 2018-04-07 05:05:00  wandering around ancient chinese garden intere...   \n",
       "3 2018-04-23 08:55:00              huangshan mountains hiking free fresh   \n",
       "4 2018-05-14 23:35:00  one favorite shots huangshan trees seem care p...   \n",
       "\n",
       "                                         Translation  Positive  Negative  \\\n",
       "0              breathtaking view huangshan cable car         0         0   \n",
       "1  grateful trees mountains inspire me?<br> truly...         2         0   \n",
       "2  wandering around ancient chinese garden intere...         2         0   \n",
       "3              huangshan mountains hiking free fresh         0         0   \n",
       "4  one favorite shots huangshan trees seem care p...         2        -1   \n",
       "\n",
       "                                    EmotionRationale  \n",
       "0   breathtaking[0] view[0] huangshan[0] cable[0]...  \n",
       "1   grateful[1] trees[0] mountains[0] inspire[2] ...  \n",
       "2   wandering[0] around[0] ancient[0] chinese[0] ...  \n",
       "3   huangshan[0] mountains[0] hiking[0] free[0] f...  \n",
       "4   one[0] favorite[1] shots[0] huangshan[0] tree...  "
      ]
     },
     "execution_count": 199,
     "metadata": {},
     "output_type": "execute_result"
    }
   ],
   "source": [
    "senti_df.head()"
   ]
  },
  {
   "cell_type": "code",
   "execution_count": 200,
   "metadata": {
    "collapsed": true
   },
   "outputs": [],
   "source": [
    "senti_df.index = senti_df['time']"
   ]
  },
  {
   "cell_type": "code",
   "execution_count": 201,
   "metadata": {
    "collapsed": true
   },
   "outputs": [],
   "source": [
    "daily_summary = pd.DataFrame()\n",
    "daily_summary['Positive'] = senti_df['Positive'].resample('D').mean()\n",
    "daily_summary['Negative'] = senti_df['Negative'].resample('D').mean()"
   ]
  },
  {
   "cell_type": "code",
   "execution_count": 202,
   "metadata": {
    "collapsed": true
   },
   "outputs": [],
   "source": [
    "daily_summary['Final'] = daily_summary['Positive'] + daily_summary['Negative'] "
   ]
  },
  {
   "cell_type": "code",
   "execution_count": 203,
   "metadata": {},
   "outputs": [
    {
     "data": {
      "image/png": "[encoded data removed]",
      "text/plain": [
       "<matplotlib.figure.Figure at 0x31b7d400>"
      ]
     },
     "metadata": {},
     "output_type": "display_data"
    }
   ],
   "source": [
    "fig, ax1 = plt.subplots()\n",
    "\n",
    "#ax2 = ax1.twinx()\n",
    "ax1.plot(daily_summary.index, daily_summary['Positive'], 'g-')\n",
    "ax1.plot(daily_summary.index, daily_summary['Negative'], 'b-')\n",
    "\n",
    "ax1.set_xlabel('Date')\n",
    "ax1.set_ylabel('Sentiment', color='g')\n",
    "#ax1.set_ylabel('Positive', color='g')\n",
    "#ax2.set_ylabel('Negative', color='b')\n",
    "\n",
    "plt.show()\n",
    "plt.rcParams['figure.figsize'] = 12,5"
   ]
  },
  {
   "cell_type": "code",
   "execution_count": null,
   "metadata": {
    "collapsed": true
   },
   "outputs": [],
   "source": []
  },
  {
   "cell_type": "code",
   "execution_count": 204,
   "metadata": {
    "collapsed": true
   },
   "outputs": [],
   "source": [
    "monthly_summary = pd.DataFrame()\n",
    "monthly_summary['Positive'] = senti_df['Positive'].resample('M').mean()\n",
    "monthly_summary['Negative'] = senti_df['Negative'].resample('M').mean()\n",
    "monthly_summary['Final'] = monthly_summary['Positive'] + monthly_summary['Negative'] "
   ]
  },
  {
   "cell_type": "code",
   "execution_count": 207,
   "metadata": {},
   "outputs": [
    {
     "data": {
      "image/png": "[encoded data removed]",
      "text/plain": [
       "<matplotlib.figure.Figure at 0x31ce8e80>"
      ]
     },
     "metadata": {},
     "output_type": "display_data"
    }
   ],
   "source": [
    "fig, ax1 = plt.subplots()\n",
    "\n",
    "#ax2 = ax1.twinx()\n",
    "ax1.plot(monthly_summary.index, monthly_summary['Positive'], 'g-')\n",
    "ax1.plot(monthly_summary.index, monthly_summary['Negative'], 'b-')\n",
    "ax1.plot(monthly_summary.index, monthly_summary['Final'], 'r-')\n",
    "\n",
    "ax1.set_xlabel('Date')\n",
    "ax1.set_ylabel('Sentiment')\n",
    "#ax1.set_ylabel('Positive', color='g')\n",
    "#ax2.set_ylabel('Negative', color='b')\n",
    "ax1.legend()\n",
    "plt.show()\n",
    "plt.rcParams['figure.figsize'] = 12,5"
   ]
  },
  {
   "cell_type": "code",
   "execution_count": 208,
   "metadata": {
    "collapsed": true
   },
   "outputs": [],
   "source": [
    "monthly_summary.to_csv('montly_sentiment.csv')"
   ]
  }
 ],
 "metadata": {
  "kernelspec": {
   "display_name": "Python 3",
   "language": "python",
   "name": "python3"
  },
  "language_info": {
   "codemirror_mode": {
    "name": "ipython",
    "version": 3
   },
   "file_extension": ".py",
   "mimetype": "text/x-python",
   "name": "python",
   "nbconvert_exporter": "python",
   "pygments_lexer": "ipython3",
   "version": "3.6.1"
  }
 },
 "nbformat": 4,
 "nbformat_minor": 2
}
