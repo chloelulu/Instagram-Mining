{
 "cells": [
  {
   "cell_type": "code",
   "execution_count": 1,
   "metadata": {
    "collapsed": true
   },
   "outputs": [],
   "source": [
    "import cv2\n",
    "import os\n",
    "import matplotlib.pyplot as plt \n",
    "import numpy as np\n",
    "from sklearn.svm import LinearSVC, SVC\n",
    "from sklearn.externals import joblib\n",
    "from scipy.cluster.vq import *\n",
    "from sklearn.preprocessing import StandardScaler"
   ]
  },
  {
   "cell_type": "markdown",
   "metadata": {
    "collapsed": true
   },
   "source": [
    "# image function"
   ]
  },
  {
   "cell_type": "code",
   "execution_count": 2,
   "metadata": {
    "collapsed": true
   },
   "outputs": [],
   "source": [
    "def imlist(path):\n",
    "    \"\"\"\n",
    "    The function imlist returns all the names of the files in \n",
    "    the directory path supplied as argument to the function.\n",
    "    \"\"\"\n",
    "    return [os.path.join(path, f) for f in os.listdir(path)]"
   ]
  },
  {
   "cell_type": "markdown",
   "metadata": {},
   "source": [
    "# bag-of-word (BOW) function"
   ]
  },
  {
   "cell_type": "code",
   "execution_count": 11,
   "metadata": {
    "collapsed": true
   },
   "outputs": [],
   "source": [
    "# Create feature extraction and keypoint detector objects\n",
    "def BOW(image_paths, sift):\n",
    "    des_list = []     # save descriptor list\n",
    "    for image_path in image_paths:\n",
    "        im = cv2.imread(image_path)\n",
    "        gray= cv2.cvtColor(im,cv2.COLOR_BGR2GRAY)\n",
    "        (kps, des) = sift.detectAndCompute(gray, None)\n",
    "        des_list.append((image_path, des))  \n",
    "    return des_list"
   ]
  },
  {
   "cell_type": "markdown",
   "metadata": {},
   "source": [
    "# histogram of BOW function"
   ]
  },
  {
   "cell_type": "code",
   "execution_count": 4,
   "metadata": {
    "collapsed": true
   },
   "outputs": [],
   "source": [
    "def hist_bow(des_list, image_paths):\n",
    "    # Stack all the descriptors vertically in a numpy array\n",
    "    descriptors = des_list[0][1]\n",
    "    for image_path, descriptor in des_list[1:]:\n",
    "        descriptors = np.vstack((descriptors, descriptor))  \n",
    "    \n",
    "    # Perform k-means clustering\n",
    "    k = 15\n",
    "    voc, variance = kmeans(descriptors, k, 1) \n",
    "    # Calculate the histogram of features\n",
    "    im_features = np.zeros((len(image_paths), k), \"float32\")\n",
    "    for i in range(len(image_paths)):\n",
    "        words, distance = vq(des_list[i][1],voc)\n",
    "        for w in words:\n",
    "            im_features[i][w] += 1\n",
    "    return im_features"
   ]
  },
  {
   "cell_type": "markdown",
   "metadata": {},
   "source": [
    "# Load train data and test data"
   ]
  },
  {
   "cell_type": "code",
   "execution_count": 5,
   "metadata": {
    "collapsed": true
   },
   "outputs": [],
   "source": [
    "# Get the path of the training set\n",
    "train_path = r'dataset\\data\\traindata'\n",
    "train_names = os.listdir(train_path)\n",
    "\n",
    "# Get the path of the test set\n",
    "test_path = r'dataset\\data\\testdata'\n",
    "test_names = os.listdir(test_path)"
   ]
  },
  {
   "cell_type": "code",
   "execution_count": 6,
   "metadata": {
    "collapsed": true
   },
   "outputs": [],
   "source": [
    "# Get all the path to the images and save them in a list; save the image label to a list\n",
    "train_image_paths = []\n",
    "train_image_classes = []\n",
    "class_id = 0\n",
    "for train_name in train_names:\n",
    "    dir = os.path.join(train_path, train_name)\n",
    "    class_path = imlist(dir)\n",
    "    train_image_paths+=class_path\n",
    "    train_image_classes+=[class_id]*len(class_path)\n",
    "    class_id+=1\n",
    "\n",
    "# Get the path of the testing image(s) and store them in a list\n",
    "test_image_paths = []\n",
    "test_image_classes = []\n",
    "class_id = 0\n",
    "for test_name in test_names:\n",
    "    test_dir = os.path.join(test_path, test_name)\n",
    "    test_class_path = imlist(test_dir)\n",
    "    test_image_paths += test_class_path\n",
    "    test_image_classes += [class_id]*len(test_class_path)\n",
    "    class_id+=1"
   ]
  },
  {
   "cell_type": "code",
   "execution_count": 7,
   "metadata": {
    "collapsed": true
   },
   "outputs": [],
   "source": [
    "# initiate the sift algorithm\n",
    "sift = cv2.xfeatures2d.SURF_create()"
   ]
  },
  {
   "cell_type": "code",
   "execution_count": 8,
   "metadata": {
    "collapsed": true
   },
   "outputs": [],
   "source": [
    "# train data\n",
    "train_descriptor = BOW(train_image_paths, sift)\n",
    "train_im_features = hist_bow(train_descriptor, train_image_paths)\n",
    "\n",
    "# Scaling the words\n",
    "stdSlr = StandardScaler().fit(train_im_features)\n",
    "train_im_features = stdSlr.transform(train_im_features)"
   ]
  },
  {
   "cell_type": "code",
   "execution_count": null,
   "metadata": {
    "collapsed": true
   },
   "outputs": [],
   "source": [
    "len(test_descriptor[0][1])"
   ]
  },
  {
   "cell_type": "code",
   "execution_count": 9,
   "metadata": {
    "collapsed": true
   },
   "outputs": [],
   "source": [
    "# apply model to test data \n",
    "test_descriptor = BOW(test_image_paths, sift)\n",
    "test_im_features = hist_bow(test_descriptor, test_image_paths)\n",
    "\n",
    "# Scaling the words\n",
    "stdSlr = StandardScaler().fit(test_im_features)\n",
    "test_im_features = stdSlr.transform(test_im_features)"
   ]
  },
  {
   "cell_type": "code",
   "execution_count": 10,
   "metadata": {},
   "outputs": [
    {
     "data": {
      "text/plain": [
       "0.18"
      ]
     },
     "execution_count": 10,
     "metadata": {},
     "output_type": "execute_result"
    }
   ],
   "source": [
    "# Train the Linear SVM\n",
    "clf = SVC(C=50, gamma=0.001)\n",
    "clf.fit(train_im_features, np.array(train_image_classes))\n",
    "\n",
    "# Perform the predictions\n",
    "predictions =  clf.predict(test_im_features)\n",
    "clf.score(test_im_features, test_image_classes)"
   ]
  },
  {
   "cell_type": "code",
   "execution_count": 36,
   "metadata": {},
   "outputs": [
    {
     "name": "stdout",
     "output_type": "stream",
     "text": [
      "Wall time: 865 ms\n",
      "{'C': 50, 'gamma': 0.001}\n"
     ]
    }
   ],
   "source": [
    "# play with parameters\n",
    "\n",
    "from sklearn.grid_search import GridSearchCV\n",
    "param_grid = {'C': [1, 5, 10, 50],\n",
    "              'gamma': [0.0001, 0.0005, 0.001, 0.005]}\n",
    "\n",
    "grid = GridSearchCV(clf, param_grid)\n",
    "\n",
    "%time grid.fit(test_im_features, test_image_classes)\n",
    "print(grid.best_params_)"
   ]
  },
  {
   "cell_type": "code",
   "execution_count": 60,
   "metadata": {},
   "outputs": [
    {
     "data": {
      "text/plain": [
       "400"
      ]
     },
     "execution_count": 60,
     "metadata": {},
     "output_type": "execute_result"
    }
   ],
   "source": [
    "len(test_image_classes)"
   ]
  },
  {
   "cell_type": "code",
   "execution_count": null,
   "metadata": {
    "collapsed": true
   },
   "outputs": [],
   "source": [
    "clf.score(test_im_features, test_image_classes)"
   ]
  },
  {
   "cell_type": "code",
   "execution_count": 39,
   "metadata": {},
   "outputs": [
    {
     "data": {
      "text/plain": [
       "array([1, 7, 1, 6, 0, 6, 6, 3, 0, 3, 7, 0, 3, 3, 7, 3, 6, 7, 6, 6, 6, 6,\n",
       "       7, 1, 6, 6, 7, 6, 0, 7, 6, 3, 6, 6, 4, 0, 6, 3, 3, 7, 6, 0, 1, 3,\n",
       "       4, 1, 6, 2, 6, 6, 1, 1, 6, 1, 4, 1, 1, 1, 1, 1, 1, 1, 1, 1, 1, 1,\n",
       "       1, 1, 1, 1, 1, 6, 1, 1, 1, 1, 1, 1, 1, 1, 1, 1, 1, 1, 1, 1, 6, 6,\n",
       "       1, 1, 1, 1, 6, 1, 1, 1, 1, 1, 1, 1, 3, 3, 1, 6, 1, 3, 6, 7, 1, 3,\n",
       "       5, 4, 1, 6, 3, 4, 1, 1, 1, 1, 6, 4, 4, 1, 6, 7, 1, 6, 1, 6, 1, 1,\n",
       "       6, 6, 1, 6, 1, 1, 7, 3, 0, 3, 7, 1, 6, 3, 1, 7, 6, 6, 3, 3, 6, 4,\n",
       "       3, 0, 4, 4, 4, 3, 4, 4, 1, 4, 3, 3, 5, 3, 6, 5, 3, 7, 3, 4, 4, 3,\n",
       "       4, 5, 4, 4, 4, 3, 3, 4, 4, 3, 4, 4, 3, 4, 3, 0, 7, 5, 3, 4, 3, 5,\n",
       "       5, 4, 3, 4, 6, 6, 5, 6, 6, 2, 3, 4, 3, 0, 6, 6, 3, 6, 6, 3, 3, 4,\n",
       "       3, 3, 4, 2, 4, 3, 1, 5, 6, 0, 6, 3, 4, 3, 0, 6, 6, 0, 5, 0, 0, 6,\n",
       "       0, 6, 3, 6, 6, 6, 3, 4, 4, 1, 6, 4, 6, 1, 1, 6, 1, 7, 6, 6, 4, 6,\n",
       "       1, 1, 0, 4, 4, 1, 5, 5, 1, 6, 1, 1, 1, 1, 6, 3, 4, 6, 3, 6, 6, 5,\n",
       "       5, 6, 6, 6, 6, 0, 6, 3, 3, 6, 0, 4, 4, 1, 1, 1, 6, 6, 7, 6, 6, 3,\n",
       "       6, 1, 6, 1, 1, 7, 1, 6, 3, 6, 6, 3, 4, 1, 6, 6, 3, 7, 1, 3, 6, 1,\n",
       "       1, 4, 1, 4, 6, 0, 1, 4, 1, 7, 6, 6, 1, 1, 6, 6, 0, 4, 3, 4, 3, 4,\n",
       "       6, 3, 3, 6, 6, 3, 1, 0, 6, 6, 6, 4, 6, 6, 3, 6, 3, 4, 6, 6, 6, 1,\n",
       "       6, 4, 3, 3, 3, 6, 1, 6, 3, 6, 3, 4, 3, 3, 4, 4, 6, 6, 6, 6, 0, 4,\n",
       "       3, 5, 7, 0])"
      ]
     },
     "execution_count": 39,
     "metadata": {},
     "output_type": "execute_result"
    }
   ],
   "source": [
    "predictions"
   ]
  },
  {
   "cell_type": "markdown",
   "metadata": {
    "collapsed": true
   },
   "source": [
    "# KNN algorithm"
   ]
  },
  {
   "cell_type": "code",
   "execution_count": 44,
   "metadata": {},
   "outputs": [
    {
     "data": {
      "text/plain": [
       "KNeighborsClassifier(algorithm='auto', leaf_size=30, metric='minkowski',\n",
       "           metric_params=None, n_jobs=1, n_neighbors=5, p=2,\n",
       "           weights='uniform')"
      ]
     },
     "execution_count": 44,
     "metadata": {},
     "output_type": "execute_result"
    }
   ],
   "source": [
    "from sklearn.neighbors import KNeighborsClassifier\n",
    "\n",
    "clf = KNeighborsClassifier()\n",
    "clf.fit(train_im_features, np.array(train_image_classes))"
   ]
  },
  {
   "cell_type": "code",
   "execution_count": 45,
   "metadata": {
    "collapsed": true
   },
   "outputs": [],
   "source": [
    "predictions =  clf.predict(test_im_features)"
   ]
  },
  {
   "cell_type": "code",
   "execution_count": 46,
   "metadata": {},
   "outputs": [
    {
     "data": {
      "text/plain": [
       "0.25"
      ]
     },
     "execution_count": 46,
     "metadata": {},
     "output_type": "execute_result"
    }
   ],
   "source": [
    "clf.score(test_im_features, test_image_classes)"
   ]
  },
  {
   "cell_type": "code",
   "execution_count": 25,
   "metadata": {
    "collapsed": true
   },
   "outputs": [],
   "source": [
    "from sklearn.metrics import confusion_matrix"
   ]
  },
  {
   "cell_type": "code",
   "execution_count": 43,
   "metadata": {},
   "outputs": [
    {
     "data": {
      "text/plain": [
       "array([[11,  4,  9,  2,  3,  8, 12,  1],\n",
       "       [ 5, 39,  1,  0,  1,  0,  4,  0],\n",
       "       [ 1,  5,  2,  9,  4, 18, 10,  1],\n",
       "       [ 8,  4,  6, 14,  1, 11,  5,  1],\n",
       "       [ 9,  2,  1, 19,  1,  0, 18,  0],\n",
       "       [ 1, 19,  2,  5,  3, 10,  5,  5],\n",
       "       [ 4,  6,  3,  5,  1,  8, 22,  1],\n",
       "       [15,  7,  4,  9,  2,  3,  5,  5]])"
      ]
     },
     "execution_count": 43,
     "metadata": {},
     "output_type": "execute_result"
    }
   ],
   "source": [
    "confusion_matrix(test_image_classes, predictions)"
   ]
  }
 ],
 "metadata": {
  "kernelspec": {
   "display_name": "Python 3",
   "language": "python",
   "name": "python3"
  },
  "language_info": {
   "codemirror_mode": {
    "name": "ipython",
    "version": 3
   },
   "file_extension": ".py",
   "mimetype": "text/x-python",
   "name": "python",
   "nbconvert_exporter": "python",
   "pygments_lexer": "ipython3",
   "version": "3.6.1"
  }
 },
 "nbformat": 4,
 "nbformat_minor": 2
}
